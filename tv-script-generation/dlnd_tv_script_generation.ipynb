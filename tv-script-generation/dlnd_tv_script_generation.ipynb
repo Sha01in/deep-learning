{
 "cells": [
  {
   "cell_type": "markdown",
   "metadata": {
    "deletable": true,
    "editable": true
   },
   "source": [
    "# TV Script Generation\n",
    "In this project, you'll generate your own [Simpsons](https://en.wikipedia.org/wiki/The_Simpsons) TV scripts using RNNs.  You'll be using part of the [Simpsons dataset](https://www.kaggle.com/wcukierski/the-simpsons-by-the-data) of scripts from 27 seasons.  The Neural Network you'll build will generate a new TV script for a scene at [Moe's Tavern](https://simpsonswiki.com/wiki/Moe's_Tavern).\n",
    "## Get the Data\n",
    "The data is already provided for you.  You'll be using a subset of the original dataset.  It consists of only the scenes in Moe's Tavern.  This doesn't include other versions of the tavern, like \"Moe's Cavern\", \"Flaming Moe's\", \"Uncle Moe's Family Feed-Bag\", etc.."
   ]
  },
  {
   "cell_type": "code",
   "execution_count": 1,
   "metadata": {
    "collapsed": true,
    "deletable": true,
    "editable": true
   },
   "outputs": [],
   "source": [
    "\"\"\"\n",
    "DON'T MODIFY ANYTHING IN THIS CELL\n",
    "\"\"\"\n",
    "import helper\n",
    "\n",
    "data_dir = './data/simpsons/moes_tavern_lines.txt'\n",
    "text = helper.load_data(data_dir)\n",
    "# Ignore notice, since we don't use it for analysing the data\n",
    "text = text[81:]"
   ]
  },
  {
   "cell_type": "markdown",
   "metadata": {
    "deletable": true,
    "editable": true
   },
   "source": [
    "## Explore the Data\n",
    "Play around with `view_sentence_range` to view different parts of the data."
   ]
  },
  {
   "cell_type": "code",
   "execution_count": 2,
   "metadata": {
    "collapsed": false,
    "deletable": true,
    "editable": true
   },
   "outputs": [
    {
     "name": "stdout",
     "output_type": "stream",
     "text": [
      "Dataset Stats\n",
      "Roughly the number of unique words: 11492\n",
      "Number of scenes: 262\n",
      "Average number of sentences in each scene: 15.251908396946565\n",
      "Number of lines: 4258\n",
      "Average number of words in each line: 11.50164396430249\n",
      "\n",
      "The sentences 0 to 10:\n",
      "\n",
      "Moe_Szyslak: (INTO PHONE) Moe's Tavern. Where the elite meet to drink.\n",
      "Bart_Simpson: Eh, yeah, hello, is Mike there? Last name, Rotch.\n",
      "Moe_Szyslak: (INTO PHONE) Hold on, I'll check. (TO BARFLIES) Mike Rotch. Mike Rotch. Hey, has anybody seen Mike Rotch, lately?\n",
      "Moe_Szyslak: (INTO PHONE) Listen you little puke. One of these days I'm gonna catch you, and I'm gonna carve my name on your back with an ice pick.\n",
      "Moe_Szyslak: What's the matter Homer? You're not your normal effervescent self.\n",
      "Homer_Simpson: I got my problems, Moe. Give me another one.\n",
      "Moe_Szyslak: Homer, hey, you should not drink to forget your problems.\n",
      "Barney_Gumble: Yeah, you should only drink to enhance your social skills.\n",
      "\n"
     ]
    }
   ],
   "source": [
    "view_sentence_range = (0, 10)\n",
    "\n",
    "\"\"\"\n",
    "DON'T MODIFY ANYTHING IN THIS CELL\n",
    "\"\"\"\n",
    "import numpy as np\n",
    "\n",
    "print('Dataset Stats')\n",
    "print('Roughly the number of unique words: {}'.format(len({word: None for word in text.split()})))\n",
    "scenes = text.split('\\n\\n')\n",
    "print('Number of scenes: {}'.format(len(scenes)))\n",
    "sentence_count_scene = [scene.count('\\n') for scene in scenes]\n",
    "print('Average number of sentences in each scene: {}'.format(np.average(sentence_count_scene)))\n",
    "\n",
    "sentences = [sentence for scene in scenes for sentence in scene.split('\\n')]\n",
    "print('Number of lines: {}'.format(len(sentences)))\n",
    "word_count_sentence = [len(sentence.split()) for sentence in sentences]\n",
    "print('Average number of words in each line: {}'.format(np.average(word_count_sentence)))\n",
    "\n",
    "print()\n",
    "print('The sentences {} to {}:'.format(*view_sentence_range))\n",
    "print('\\n'.join(text.split('\\n')[view_sentence_range[0]:view_sentence_range[1]]))"
   ]
  },
  {
   "cell_type": "markdown",
   "metadata": {
    "deletable": true,
    "editable": true
   },
   "source": [
    "## Implement Preprocessing Functions\n",
    "The first thing to do to any dataset is preprocessing.  Implement the following preprocessing functions below:\n",
    "- Lookup Table\n",
    "- Tokenize Punctuation\n",
    "\n",
    "### Lookup Table\n",
    "To create a word embedding, you first need to transform the words to ids.  In this function, create two dictionaries:\n",
    "- Dictionary to go from the words to an id, we'll call `vocab_to_int`\n",
    "- Dictionary to go from the id to word, we'll call `int_to_vocab`\n",
    "\n",
    "Return these dictionaries in the following tuple `(vocab_to_int, int_to_vocab)`"
   ]
  },
  {
   "cell_type": "code",
   "execution_count": 12,
   "metadata": {
    "collapsed": false,
    "deletable": true,
    "editable": true
   },
   "outputs": [
    {
     "name": "stdout",
     "output_type": "stream",
     "text": [
      "Tests Passed\n"
     ]
    }
   ],
   "source": [
    "import numpy as np\n",
    "import problem_unittests as tests\n",
    "\n",
    "def create_lookup_tables(text):\n",
    "    \"\"\"\n",
    "    Create lookup tables for vocabulary\n",
    "    :param text: The text of tv scripts split into words\n",
    "    :return: A tuple of dicts (vocab_to_int, int_to_vocab)\n",
    "    \"\"\"\n",
    "    # TODO: Implement Function\n",
    "    vocab = set(text)\n",
    "    vocab_to_int = {c: i for i, c in enumerate(vocab)}\n",
    "    int_to_vocab = dict(enumerate(vocab))\n",
    "    return vocab_to_int, int_to_vocab\n",
    "\n",
    "\n",
    "\"\"\"\n",
    "DON'T MODIFY ANYTHING IN THIS CELL THAT IS BELOW THIS LINE\n",
    "\"\"\"\n",
    "tests.test_create_lookup_tables(create_lookup_tables)"
   ]
  },
  {
   "cell_type": "markdown",
   "metadata": {
    "deletable": true,
    "editable": true
   },
   "source": [
    "### Tokenize Punctuation\n",
    "We'll be splitting the script into a word array using spaces as delimiters.  However, punctuations like periods and exclamation marks make it hard for the neural network to distinguish between the word \"bye\" and \"bye!\".\n",
    "\n",
    "Implement the function `token_lookup` to return a dict that will be used to tokenize symbols like \"!\" into \"||Exclamation_Mark||\".  Create a dictionary for the following symbols where the symbol is the key and value is the token:\n",
    "- Period ( . )\n",
    "- Comma ( , )\n",
    "- Quotation Mark ( \" )\n",
    "- Semicolon ( ; )\n",
    "- Exclamation mark ( ! )\n",
    "- Question mark ( ? )\n",
    "- Left Parentheses ( ( )\n",
    "- Right Parentheses ( ) )\n",
    "- Dash ( -- )\n",
    "- Return ( \\n )\n",
    "\n",
    "This dictionary will be used to token the symbols and add the delimiter (space) around it.  This separates the symbols as it's own word, making it easier for the neural network to predict on the next word. Make sure you don't use a token that could be confused as a word. Instead of using the token \"dash\", try using something like \"||dash||\"."
   ]
  },
  {
   "cell_type": "code",
   "execution_count": 4,
   "metadata": {
    "collapsed": false,
    "deletable": true,
    "editable": true
   },
   "outputs": [
    {
     "name": "stdout",
     "output_type": "stream",
     "text": [
      "Tests Passed\n"
     ]
    }
   ],
   "source": [
    "def token_lookup():\n",
    "    \"\"\"\n",
    "    Generate a dict to turn punctuation into a token.\n",
    "    :return: Tokenize dictionary where the key is the punctuation and the value is the token\n",
    "    \"\"\"\n",
    "    # TODO: Implement Function\n",
    "    token_dict = dict()\n",
    "    token_dict['.'] = \"||Period||\" \n",
    "    token_dict[','] = \"||Comma||\"\n",
    "    token_dict['\"'] = \"||Double_Quote||\"\n",
    "    token_dict[';'] = \"||Semicolon||\"\n",
    "    token_dict['!'] = \"||Exclamation_Mark||\"\n",
    "    token_dict['?'] = \"||Question_Mark||\"\n",
    "    token_dict['('] = \"||Left_Parentheses||\"\n",
    "    token_dict[')'] = \"||Right_Parentheses||\"\n",
    "    token_dict['--'] = \"||Double_Dash||\"\n",
    "    token_dict['\\n'] = \"||Line_Return||\"\n",
    "    return token_dict\n",
    "\n",
    "\"\"\"\n",
    "DON'T MODIFY ANYTHING IN THIS CELL THAT IS BELOW THIS LINE\n",
    "\"\"\"\n",
    "tests.test_tokenize(token_lookup)"
   ]
  },
  {
   "cell_type": "markdown",
   "metadata": {
    "deletable": true,
    "editable": true
   },
   "source": [
    "## Preprocess all the data and save it\n",
    "Running the code cell below will preprocess all the data and save it to file."
   ]
  },
  {
   "cell_type": "code",
   "execution_count": 5,
   "metadata": {
    "collapsed": true,
    "deletable": true,
    "editable": true
   },
   "outputs": [],
   "source": [
    "\"\"\"\n",
    "DON'T MODIFY ANYTHING IN THIS CELL\n",
    "\"\"\"\n",
    "# Preprocess Training, Validation, and Testing Data\n",
    "helper.preprocess_and_save_data(data_dir, token_lookup, create_lookup_tables)"
   ]
  },
  {
   "cell_type": "markdown",
   "metadata": {
    "deletable": true,
    "editable": true
   },
   "source": [
    "# Check Point\n",
    "This is your first checkpoint. If you ever decide to come back to this notebook or have to restart the notebook, you can start from here. The preprocessed data has been saved to disk."
   ]
  },
  {
   "cell_type": "code",
   "execution_count": 1,
   "metadata": {
    "collapsed": true,
    "deletable": true,
    "editable": true
   },
   "outputs": [],
   "source": [
    "\"\"\"\n",
    "DON'T MODIFY ANYTHING IN THIS CELL\n",
    "\"\"\"\n",
    "import helper\n",
    "import numpy as np\n",
    "import problem_unittests as tests\n",
    "\n",
    "int_text, vocab_to_int, int_to_vocab, token_dict = helper.load_preprocess()"
   ]
  },
  {
   "cell_type": "markdown",
   "metadata": {
    "deletable": true,
    "editable": true
   },
   "source": [
    "## Build the Neural Network\n",
    "You'll build the components necessary to build a RNN by implementing the following functions below:\n",
    "- get_inputs\n",
    "- get_init_cell\n",
    "- get_embed\n",
    "- build_rnn\n",
    "- build_nn\n",
    "- get_batches\n",
    "\n",
    "### Check the Version of TensorFlow and Access to GPU"
   ]
  },
  {
   "cell_type": "code",
   "execution_count": 2,
   "metadata": {
    "collapsed": false,
    "deletable": true,
    "editable": true
   },
   "outputs": [
    {
     "name": "stdout",
     "output_type": "stream",
     "text": [
      "TensorFlow Version: 1.0.1\n",
      "Default GPU Device: /gpu:0\n"
     ]
    }
   ],
   "source": [
    "\"\"\"\n",
    "DON'T MODIFY ANYTHING IN THIS CELL\n",
    "\"\"\"\n",
    "from distutils.version import LooseVersion\n",
    "import warnings\n",
    "import tensorflow as tf\n",
    "\n",
    "# Check TensorFlow Version\n",
    "assert LooseVersion(tf.__version__) >= LooseVersion('1.0'), 'Please use TensorFlow version 1.0 or newer'\n",
    "print('TensorFlow Version: {}'.format(tf.__version__))\n",
    "\n",
    "# Check for a GPU\n",
    "if not tf.test.gpu_device_name():\n",
    "    warnings.warn('No GPU found. Please use a GPU to train your neural network.')\n",
    "else:\n",
    "    print('Default GPU Device: {}'.format(tf.test.gpu_device_name()))"
   ]
  },
  {
   "cell_type": "markdown",
   "metadata": {
    "deletable": true,
    "editable": true
   },
   "source": [
    "### Input\n",
    "Implement the `get_inputs()` function to create TF Placeholders for the Neural Network.  It should create the following placeholders:\n",
    "- Input text placeholder named \"input\" using the [TF Placeholder](https://www.tensorflow.org/api_docs/python/tf/placeholder) `name` parameter.\n",
    "- Targets placeholder\n",
    "- Learning Rate placeholder\n",
    "\n",
    "Return the placeholders in the following tuple `(Input, Targets, LearningRate)`"
   ]
  },
  {
   "cell_type": "code",
   "execution_count": 3,
   "metadata": {
    "collapsed": false,
    "deletable": true,
    "editable": true
   },
   "outputs": [
    {
     "name": "stdout",
     "output_type": "stream",
     "text": [
      "Tests Passed\n"
     ]
    }
   ],
   "source": [
    "def get_inputs():\n",
    "    \"\"\"\n",
    "    Create TF Placeholders for input, targets, and learning rate.\n",
    "    :return: Tuple (input, targets, learning rate)\n",
    "    \"\"\"\n",
    "    # TODO: Implement Function\n",
    "    \n",
    "    # Declare placeholders we'll feed into the graph\n",
    "    Input = tf.placeholder(tf.int32, [None, None], name='input')\n",
    "    Targets = tf.placeholder(tf.int32, [None, None] , name='Targets')\n",
    "    \n",
    "    # Keep probability placeholder for drop out layers\n",
    "    LearningRate = tf.placeholder(tf.float32, shape=None, name='LearningRate')\n",
    "    \n",
    "    #return inputs, targets, keep_prob\n",
    "    return Input, Targets, LearningRate\n",
    "\n",
    "\n",
    "\"\"\"\n",
    "DON'T MODIFY ANYTHING IN THIS CELL THAT IS BELOW THIS LINE\n",
    "\"\"\"\n",
    "tests.test_get_inputs(get_inputs)"
   ]
  },
  {
   "cell_type": "markdown",
   "metadata": {
    "deletable": true,
    "editable": true
   },
   "source": [
    "### Build RNN Cell and Initialize\n",
    "Stack one or more [`BasicLSTMCells`](https://www.tensorflow.org/api_docs/python/tf/contrib/rnn/BasicLSTMCell) in a [`MultiRNNCell`](https://www.tensorflow.org/api_docs/python/tf/contrib/rnn/MultiRNNCell).\n",
    "- The Rnn size should be set using `rnn_size`\n",
    "- Initalize Cell State using the MultiRNNCell's [`zero_state()`](https://www.tensorflow.org/api_docs/python/tf/contrib/rnn/MultiRNNCell#zero_state) function\n",
    "    - Apply the name \"initial_state\" to the initial state using [`tf.identity()`](https://www.tensorflow.org/api_docs/python/tf/identity)\n",
    "\n",
    "Return the cell and initial state in the following tuple `(Cell, InitialState)`"
   ]
  },
  {
   "cell_type": "code",
   "execution_count": 12,
   "metadata": {
    "collapsed": false,
    "deletable": true,
    "editable": true
   },
   "outputs": [
    {
     "name": "stdout",
     "output_type": "stream",
     "text": [
      "Tests Passed\n"
     ]
    }
   ],
   "source": [
    "def get_init_cell(batch_size, rnn_size):\n",
    "    \"\"\"\n",
    "    Create an RNN Cell and initialize it.\n",
    "    :param batch_size: Size of batches\n",
    "    :param rnn_size: Size of RNNs\n",
    "    :return: Tuple (cell, initialize state)\n",
    "    \"\"\"\n",
    "    # TODO: Implement Function\n",
    "    num_layers=2\n",
    "    LSTM = tf.contrib.rnn.BasicLSTMCell(rnn_size)\n",
    "    #drop = tf.contrib.rnn.DropoutWrapper(LSTM,output_keep_prob=0.8)\n",
    "    #LSTM = tf.contrib.rnn.MultiRNNCell([drop]*rnn_size)\n",
    "    #cell = tf.contrib.rnn.MultiRNNCell([drop])\n",
    "    cell=tf.contrib.rnn.MultiRNNCell([LSTM] * num_layers)\n",
    "    #input_ = cell.zero_state(batch_size, tf.float32)\n",
    "    input_ = cell.zero_state(batch_size, tf.float32)\n",
    "    initial_state=tf.identity(input_, name='initial_state')\n",
    "    #return LSTM,initial_state\n",
    "    return (cell, initial_state)\n",
    "\n",
    "\n",
    "\"\"\"\n",
    "DON'T MODIFY ANYTHING IN THIS CELL THAT IS BELOW THIS LINE\n",
    "\"\"\"\n",
    "tests.test_get_init_cell(get_init_cell)"
   ]
  },
  {
   "cell_type": "markdown",
   "metadata": {
    "deletable": true,
    "editable": true
   },
   "source": [
    "### Word Embedding\n",
    "Apply embedding to `input_data` using TensorFlow.  Return the embedded sequence."
   ]
  },
  {
   "cell_type": "code",
   "execution_count": 13,
   "metadata": {
    "collapsed": false,
    "deletable": true,
    "editable": true
   },
   "outputs": [
    {
     "name": "stdout",
     "output_type": "stream",
     "text": [
      "Tests Passed\n"
     ]
    }
   ],
   "source": [
    "def get_embed(input_data, vocab_size, embed_dim):\n",
    "    \"\"\"\n",
    "    Create embedding for <input_data>.\n",
    "    :param input_data: TF placeholder for text input.\n",
    "    :param vocab_size: Number of words in vocabulary.\n",
    "    :param embed_dim: Number of embedding dimensions\n",
    "    :return: Embedded input.\n",
    "    \"\"\"\n",
    "    # TODO: Implement Function \n",
    "    embedding = tf.Variable(tf.random_uniform((vocab_size, embed_dim), -1, 1))\n",
    "    embed = tf.nn.embedding_lookup(embedding, input_data)\n",
    "    return embed    \n",
    "\n",
    "\n",
    "\"\"\"\n",
    "DON'T MODIFY ANYTHING IN THIS CELL THAT IS BELOW THIS LINE\n",
    "\"\"\"\n",
    "tests.test_get_embed(get_embed)"
   ]
  },
  {
   "cell_type": "markdown",
   "metadata": {
    "deletable": true,
    "editable": true
   },
   "source": [
    "### Build RNN\n",
    "You created a RNN Cell in the `get_init_cell()` function.  Time to use the cell to create a RNN.\n",
    "- Build the RNN using the [`tf.nn.dynamic_rnn()`](https://www.tensorflow.org/api_docs/python/tf/nn/dynamic_rnn)\n",
    " - Apply the name \"final_state\" to the final state using [`tf.identity()`](https://www.tensorflow.org/api_docs/python/tf/identity)\n",
    "\n",
    "Return the outputs and final_state state in the following tuple `(Outputs, FinalState)` "
   ]
  },
  {
   "cell_type": "code",
   "execution_count": 14,
   "metadata": {
    "collapsed": false,
    "deletable": true,
    "editable": true
   },
   "outputs": [
    {
     "name": "stdout",
     "output_type": "stream",
     "text": [
      "Tests Passed\n"
     ]
    }
   ],
   "source": [
    "def build_rnn(cell, inputs):\n",
    "    \"\"\"\n",
    "    Create a RNN using a RNN Cell\n",
    "    :param cell: RNN Cell\n",
    "    :param inputs: Input text data\n",
    "    :return: Tuple (Outputs, Final State)\n",
    "    \"\"\"\n",
    "    # TODO: Implement Function\n",
    "    # Run each sequence step through the RNN and collect the outputs\n",
    "    outputs, state = tf.nn.dynamic_rnn(cell, inputs, dtype=tf.float32)\n",
    "    final_state=tf.identity(state, name='final_state')\n",
    "    return outputs, final_state\n",
    "\n",
    "\n",
    "\"\"\"\n",
    "DON'T MODIFY ANYTHING IN THIS CELL THAT IS BELOW THIS LINE\n",
    "\"\"\"\n",
    "tests.test_build_rnn(build_rnn)"
   ]
  },
  {
   "cell_type": "markdown",
   "metadata": {
    "deletable": true,
    "editable": true
   },
   "source": [
    "### Build the Neural Network\n",
    "Apply the functions you implemented above to:\n",
    "- Apply embedding to `input_data` using your `get_embed(input_data, vocab_size, embed_dim)` function.\n",
    "- Build RNN using `cell` and your `build_rnn(cell, inputs)` function.\n",
    "- Apply a fully connected layer with a linear activation and `vocab_size` as the number of outputs.\n",
    "\n",
    "Return the logits and final state in the following tuple (Logits, FinalState) "
   ]
  },
  {
   "cell_type": "code",
   "execution_count": 15,
   "metadata": {
    "collapsed": false,
    "deletable": true,
    "editable": true
   },
   "outputs": [
    {
     "name": "stdout",
     "output_type": "stream",
     "text": [
      "Tests Passed\n"
     ]
    }
   ],
   "source": [
    "def build_nn(cell, rnn_size, input_data, vocab_size, embed_dim):\n",
    "    \"\"\"\n",
    "    Build part of the neural network\n",
    "    :param cell: RNN cell\n",
    "    :param rnn_size: Size of rnns\n",
    "    :param input_data: Input data\n",
    "    :param vocab_size: Vocabulary size\n",
    "    :param embed_dim: Number of embedding dimensions\n",
    "    :return: Tuple (Logits, FinalState)\n",
    "    \"\"\"\n",
    "    # TODO: Implement Function\n",
    "    input_data=get_embed(input_data, vocab_size, embed_dim)\n",
    "    outputs, final_state=build_rnn(cell, input_data)\n",
    "    weights = tf.Variable(tf.truncated_normal(shape=[rnn_size, vocab_size], \n",
    "                                              mean=0.0, \n",
    "                                              stddev=0.1, \n",
    "                                              dtype=tf.float32, \n",
    "                                              seed=123)) \n",
    "    biases = tf.Variable(tf.zeros(shape=[vocab_size], dtype=tf.float32))  \n",
    "    logits=tf.contrib.layers.fully_connected(input_data, num_outputs=vocab_size)\n",
    "    def mul_fn(current_input):\n",
    "        return tf.matmul(current_input, weights) + biases\n",
    "\n",
    "    logits = tf.map_fn(mul_fn, outputs)\n",
    "    return logits, final_state\n",
    "\n",
    "\n",
    "\"\"\"\n",
    "DON'T MODIFY ANYTHING IN THIS CELL THAT IS BELOW THIS LINE\n",
    "\"\"\"\n",
    "tests.test_build_nn(build_nn)"
   ]
  },
  {
   "cell_type": "markdown",
   "metadata": {
    "deletable": true,
    "editable": true
   },
   "source": [
    "### Batches\n",
    "Implement `get_batches` to create batches of input and targets using `int_text`.  The batches should be a Numpy array with the shape `(number of batches, 2, batch size, sequence length)`. Each batch contains two elements:\n",
    "- The first element is a single batch of **input** with the shape `[batch size, sequence length]`\n",
    "- The second element is a single batch of **targets** with the shape `[batch size, sequence length]`\n",
    "\n",
    "If you can't fill the last batch with enough data, drop the last batch.\n",
    "\n",
    "For exmple, `get_batches([1, 2, 3, 4, 5, 6, 7, 8, 9, 10, 11, 12, 13, 14, 15], 2, 3)` would return a Numpy array of the following:\n",
    "```\n",
    "[\n",
    "  # First Batch\n",
    "  [\n",
    "    # Batch of Input\n",
    "    [[ 1  2  3], [ 7  8  9]],\n",
    "    # Batch of targets\n",
    "    [[ 2  3  4], [ 8  9 10]]\n",
    "  ],\n",
    " \n",
    "  # Second Batch\n",
    "  [\n",
    "    # Batch of Input\n",
    "    [[ 4  5  6], [10 11 12]],\n",
    "    # Batch of targets\n",
    "    [[ 5  6  7], [11 12 13]]\n",
    "  ]\n",
    "]\n",
    "```"
   ]
  },
  {
   "cell_type": "code",
   "execution_count": 16,
   "metadata": {
    "collapsed": false,
    "deletable": true,
    "editable": true
   },
   "outputs": [
    {
     "name": "stdout",
     "output_type": "stream",
     "text": [
      "Tests Passed\n"
     ]
    }
   ],
   "source": [
    "def get_batches(int_text, batch_size, seq_length):\n",
    "    \"\"\"\n",
    "    Return batches of input and target\n",
    "    :param int_text: Text with the words replaced by their ids\n",
    "    :param batch_size: The size of batch\n",
    "    :param seq_length: The length of sequence\n",
    "    :return: Batches as a Numpy array\n",
    "    \"\"\"\n",
    "    # TODO: Implement Function\n",
    "    n_batches = len(int_text) // (batch_size * seq_length)\n",
    "    xdata = np.array(int_text[: n_batches * batch_size * seq_length])\n",
    "    ydata = np.array(int_text[1: n_batches * batch_size * seq_length + 1])\n",
    "    \n",
    "    x_batches = np.split(xdata.reshape(batch_size, -1), n_batches, 1)\n",
    "    y_batches = np.split(ydata.reshape(batch_size, -1), n_batches, 1)\n",
    "\n",
    "    return np.array(list(zip(x_batches, y_batches)))\n",
    "\n",
    "\"\"\"\n",
    "DON'T MODIFY ANYTHING IN THIS CELL THAT IS BELOW THIS LINE\n",
    "\"\"\"\n",
    "tests.test_get_batches(get_batches)"
   ]
  },
  {
   "cell_type": "markdown",
   "metadata": {
    "deletable": true,
    "editable": true
   },
   "source": [
    "## Neural Network Training\n",
    "### Hyperparameters\n",
    "Tune the following parameters:\n",
    "\n",
    "- Set `num_epochs` to the number of epochs.\n",
    "- Set `batch_size` to the batch size.\n",
    "- Set `rnn_size` to the size of the RNNs.\n",
    "- Set `embed_dim` to the size of the embedding.\n",
    "- Set `seq_length` to the length of sequence.\n",
    "- Set `learning_rate` to the learning rate.\n",
    "- Set `show_every_n_batches` to the number of batches the neural network should print progress."
   ]
  },
  {
   "cell_type": "code",
   "execution_count": 33,
   "metadata": {
    "collapsed": true,
    "deletable": true,
    "editable": true
   },
   "outputs": [],
   "source": [
    "# Number of Epochs\n",
    "num_epochs = 50\n",
    "# Batch Size\n",
    "batch_size = 30\n",
    "# RNN Size\n",
    "rnn_size = 1024\n",
    "# Embedding Dimension Size\n",
    "embed_dim = 512\n",
    "# Sequence Length\n",
    "seq_length = 20\n",
    "# Learning Rate\n",
    "learning_rate = 0.005\n",
    "# Show stats for every n number of batches\n",
    "show_every_n_batches = 10\n",
    "\n",
    "\"\"\"\n",
    "DON'T MODIFY ANYTHING IN THIS CELL THAT IS BELOW THIS LINE\n",
    "\"\"\"\n",
    "save_dir = './save'"
   ]
  },
  {
   "cell_type": "markdown",
   "metadata": {
    "deletable": true,
    "editable": true
   },
   "source": [
    "### Build the Graph\n",
    "Build the graph using the neural network you implemented."
   ]
  },
  {
   "cell_type": "code",
   "execution_count": 34,
   "metadata": {
    "collapsed": true,
    "deletable": true,
    "editable": true
   },
   "outputs": [],
   "source": [
    "\"\"\"\n",
    "DON'T MODIFY ANYTHING IN THIS CELL\n",
    "\"\"\"\n",
    "from tensorflow.contrib import seq2seq\n",
    "\n",
    "train_graph = tf.Graph()\n",
    "with train_graph.as_default():\n",
    "    vocab_size = len(int_to_vocab)\n",
    "    input_text, targets, lr = get_inputs()\n",
    "    input_data_shape = tf.shape(input_text)\n",
    "    cell, initial_state = get_init_cell(input_data_shape[0], rnn_size)\n",
    "    logits, final_state = build_nn(cell, rnn_size, input_text, vocab_size, embed_dim)\n",
    "\n",
    "    # Probabilities for generating words\n",
    "    probs = tf.nn.softmax(logits, name='probs')\n",
    "\n",
    "    # Loss function\n",
    "    cost = seq2seq.sequence_loss(\n",
    "        logits,\n",
    "        targets,\n",
    "        tf.ones([input_data_shape[0], input_data_shape[1]]))\n",
    "\n",
    "    # Optimizer\n",
    "    optimizer = tf.train.AdamOptimizer(lr)\n",
    "\n",
    "    # Gradient Clipping\n",
    "    gradients = optimizer.compute_gradients(cost)\n",
    "    capped_gradients = [(tf.clip_by_value(grad, -1., 1.), var) for grad, var in gradients if grad is not None]\n",
    "    train_op = optimizer.apply_gradients(capped_gradients)"
   ]
  },
  {
   "cell_type": "markdown",
   "metadata": {
    "deletable": true,
    "editable": true
   },
   "source": [
    "## Train\n",
    "Train the neural network on the preprocessed data.  If you have a hard time getting a good loss, check the [forms](https://discussions.udacity.com/) to see if anyone is having the same problem."
   ]
  },
  {
   "cell_type": "code",
   "execution_count": 35,
   "metadata": {
    "collapsed": false,
    "deletable": true,
    "editable": true
   },
   "outputs": [
    {
     "name": "stdout",
     "output_type": "stream",
     "text": [
      "Epoch   0 Batch    0/115   train_loss = 8.842\n",
      "Epoch   0 Batch   10/115   train_loss = 6.739\n",
      "Epoch   0 Batch   20/115   train_loss = 6.126\n",
      "Epoch   0 Batch   30/115   train_loss = 5.839\n",
      "Epoch   0 Batch   40/115   train_loss = 5.778\n",
      "Epoch   0 Batch   50/115   train_loss = 5.708\n",
      "Epoch   0 Batch   60/115   train_loss = 5.143\n",
      "Epoch   0 Batch   70/115   train_loss = 5.593\n",
      "Epoch   0 Batch   80/115   train_loss = 5.304\n",
      "Epoch   0 Batch   90/115   train_loss = 5.244\n",
      "Epoch   0 Batch  100/115   train_loss = 5.171\n",
      "Epoch   0 Batch  110/115   train_loss = 5.391\n",
      "Epoch   1 Batch    5/115   train_loss = 4.837\n",
      "Epoch   1 Batch   15/115   train_loss = 5.020\n",
      "Epoch   1 Batch   25/115   train_loss = 4.955\n",
      "Epoch   1 Batch   35/115   train_loss = 5.020\n",
      "Epoch   1 Batch   45/115   train_loss = 4.752\n",
      "Epoch   1 Batch   55/115   train_loss = 4.792\n",
      "Epoch   1 Batch   65/115   train_loss = 4.727\n",
      "Epoch   1 Batch   75/115   train_loss = 4.753\n",
      "Epoch   1 Batch   85/115   train_loss = 4.897\n",
      "Epoch   1 Batch   95/115   train_loss = 4.528\n",
      "Epoch   1 Batch  105/115   train_loss = 4.673\n",
      "Epoch   2 Batch    0/115   train_loss = 4.717\n",
      "Epoch   2 Batch   10/115   train_loss = 4.888\n",
      "Epoch   2 Batch   20/115   train_loss = 4.598\n",
      "Epoch   2 Batch   30/115   train_loss = 4.514\n",
      "Epoch   2 Batch   40/115   train_loss = 4.444\n",
      "Epoch   2 Batch   50/115   train_loss = 4.462\n",
      "Epoch   2 Batch   60/115   train_loss = 4.054\n",
      "Epoch   2 Batch   70/115   train_loss = 4.423\n",
      "Epoch   2 Batch   80/115   train_loss = 4.229\n",
      "Epoch   2 Batch   90/115   train_loss = 4.326\n",
      "Epoch   2 Batch  100/115   train_loss = 4.190\n",
      "Epoch   2 Batch  110/115   train_loss = 4.371\n",
      "Epoch   3 Batch    5/115   train_loss = 4.123\n",
      "Epoch   3 Batch   15/115   train_loss = 4.150\n",
      "Epoch   3 Batch   25/115   train_loss = 4.050\n",
      "Epoch   3 Batch   35/115   train_loss = 4.214\n",
      "Epoch   3 Batch   45/115   train_loss = 4.004\n",
      "Epoch   3 Batch   55/115   train_loss = 3.965\n",
      "Epoch   3 Batch   65/115   train_loss = 3.980\n",
      "Epoch   3 Batch   75/115   train_loss = 4.056\n",
      "Epoch   3 Batch   85/115   train_loss = 3.921\n",
      "Epoch   3 Batch   95/115   train_loss = 3.709\n",
      "Epoch   3 Batch  105/115   train_loss = 3.867\n",
      "Epoch   4 Batch    0/115   train_loss = 3.925\n",
      "Epoch   4 Batch   10/115   train_loss = 3.989\n",
      "Epoch   4 Batch   20/115   train_loss = 3.798\n",
      "Epoch   4 Batch   30/115   train_loss = 3.727\n",
      "Epoch   4 Batch   40/115   train_loss = 3.629\n",
      "Epoch   4 Batch   50/115   train_loss = 3.587\n",
      "Epoch   4 Batch   60/115   train_loss = 3.355\n",
      "Epoch   4 Batch   70/115   train_loss = 3.645\n",
      "Epoch   4 Batch   80/115   train_loss = 3.461\n",
      "Epoch   4 Batch   90/115   train_loss = 3.497\n",
      "Epoch   4 Batch  100/115   train_loss = 3.480\n",
      "Epoch   4 Batch  110/115   train_loss = 3.658\n",
      "Epoch   5 Batch    5/115   train_loss = 3.477\n",
      "Epoch   5 Batch   15/115   train_loss = 3.407\n",
      "Epoch   5 Batch   25/115   train_loss = 3.307\n",
      "Epoch   5 Batch   35/115   train_loss = 3.381\n",
      "Epoch   5 Batch   45/115   train_loss = 3.263\n",
      "Epoch   5 Batch   55/115   train_loss = 3.175\n",
      "Epoch   5 Batch   65/115   train_loss = 3.184\n",
      "Epoch   5 Batch   75/115   train_loss = 3.410\n",
      "Epoch   5 Batch   85/115   train_loss = 3.231\n",
      "Epoch   5 Batch   95/115   train_loss = 2.997\n",
      "Epoch   5 Batch  105/115   train_loss = 3.103\n",
      "Epoch   6 Batch    0/115   train_loss = 3.262\n",
      "Epoch   6 Batch   10/115   train_loss = 3.319\n",
      "Epoch   6 Batch   20/115   train_loss = 3.048\n",
      "Epoch   6 Batch   30/115   train_loss = 3.018\n",
      "Epoch   6 Batch   40/115   train_loss = 2.891\n",
      "Epoch   6 Batch   50/115   train_loss = 2.902\n",
      "Epoch   6 Batch   60/115   train_loss = 2.776\n",
      "Epoch   6 Batch   70/115   train_loss = 2.880\n",
      "Epoch   6 Batch   80/115   train_loss = 2.966\n",
      "Epoch   6 Batch   90/115   train_loss = 2.835\n",
      "Epoch   6 Batch  100/115   train_loss = 2.903\n",
      "Epoch   6 Batch  110/115   train_loss = 3.027\n",
      "Epoch   7 Batch    5/115   train_loss = 2.969\n",
      "Epoch   7 Batch   15/115   train_loss = 2.810\n",
      "Epoch   7 Batch   25/115   train_loss = 2.824\n",
      "Epoch   7 Batch   35/115   train_loss = 2.675\n",
      "Epoch   7 Batch   45/115   train_loss = 2.665\n",
      "Epoch   7 Batch   55/115   train_loss = 2.595\n",
      "Epoch   7 Batch   65/115   train_loss = 2.548\n",
      "Epoch   7 Batch   75/115   train_loss = 2.892\n",
      "Epoch   7 Batch   85/115   train_loss = 2.655\n",
      "Epoch   7 Batch   95/115   train_loss = 2.458\n",
      "Epoch   7 Batch  105/115   train_loss = 2.511\n",
      "Epoch   8 Batch    0/115   train_loss = 2.639\n",
      "Epoch   8 Batch   10/115   train_loss = 2.830\n",
      "Epoch   8 Batch   20/115   train_loss = 2.653\n",
      "Epoch   8 Batch   30/115   train_loss = 2.688\n",
      "Epoch   8 Batch   40/115   train_loss = 2.451\n",
      "Epoch   8 Batch   50/115   train_loss = 2.386\n",
      "Epoch   8 Batch   60/115   train_loss = 2.334\n",
      "Epoch   8 Batch   70/115   train_loss = 2.527\n",
      "Epoch   8 Batch   80/115   train_loss = 2.490\n",
      "Epoch   8 Batch   90/115   train_loss = 2.379\n",
      "Epoch   8 Batch  100/115   train_loss = 2.299\n",
      "Epoch   8 Batch  110/115   train_loss = 2.468\n",
      "Epoch   9 Batch    5/115   train_loss = 2.403\n",
      "Epoch   9 Batch   15/115   train_loss = 2.333\n",
      "Epoch   9 Batch   25/115   train_loss = 2.358\n",
      "Epoch   9 Batch   35/115   train_loss = 2.276\n",
      "Epoch   9 Batch   45/115   train_loss = 2.264\n",
      "Epoch   9 Batch   55/115   train_loss = 2.201\n",
      "Epoch   9 Batch   65/115   train_loss = 2.116\n",
      "Epoch   9 Batch   75/115   train_loss = 2.477\n",
      "Epoch   9 Batch   85/115   train_loss = 2.179\n",
      "Epoch   9 Batch   95/115   train_loss = 2.126\n",
      "Epoch   9 Batch  105/115   train_loss = 2.062\n",
      "Epoch  10 Batch    0/115   train_loss = 2.150\n",
      "Epoch  10 Batch   10/115   train_loss = 2.088\n",
      "Epoch  10 Batch   20/115   train_loss = 2.124\n",
      "Epoch  10 Batch   30/115   train_loss = 2.213\n",
      "Epoch  10 Batch   40/115   train_loss = 2.029\n",
      "Epoch  10 Batch   50/115   train_loss = 1.933\n",
      "Epoch  10 Batch   60/115   train_loss = 1.904\n",
      "Epoch  10 Batch   70/115   train_loss = 2.009\n",
      "Epoch  10 Batch   80/115   train_loss = 2.044\n",
      "Epoch  10 Batch   90/115   train_loss = 1.950\n",
      "Epoch  10 Batch  100/115   train_loss = 1.926\n",
      "Epoch  10 Batch  110/115   train_loss = 1.839\n",
      "Epoch  11 Batch    5/115   train_loss = 1.974\n",
      "Epoch  11 Batch   15/115   train_loss = 1.776\n",
      "Epoch  11 Batch   25/115   train_loss = 1.866\n",
      "Epoch  11 Batch   35/115   train_loss = 1.804\n",
      "Epoch  11 Batch   45/115   train_loss = 1.765\n",
      "Epoch  11 Batch   55/115   train_loss = 1.781\n",
      "Epoch  11 Batch   65/115   train_loss = 1.645\n",
      "Epoch  11 Batch   75/115   train_loss = 1.861\n",
      "Epoch  11 Batch   85/115   train_loss = 1.655\n",
      "Epoch  11 Batch   95/115   train_loss = 1.651\n",
      "Epoch  11 Batch  105/115   train_loss = 1.711\n",
      "Epoch  12 Batch    0/115   train_loss = 1.706\n",
      "Epoch  12 Batch   10/115   train_loss = 1.650\n",
      "Epoch  12 Batch   20/115   train_loss = 1.598\n",
      "Epoch  12 Batch   30/115   train_loss = 1.717\n",
      "Epoch  12 Batch   40/115   train_loss = 1.514\n",
      "Epoch  12 Batch   50/115   train_loss = 1.423\n",
      "Epoch  12 Batch   60/115   train_loss = 1.382\n",
      "Epoch  12 Batch   70/115   train_loss = 1.681\n",
      "Epoch  12 Batch   80/115   train_loss = 1.617\n",
      "Epoch  12 Batch   90/115   train_loss = 1.465\n",
      "Epoch  12 Batch  100/115   train_loss = 1.411\n",
      "Epoch  12 Batch  110/115   train_loss = 1.405\n",
      "Epoch  13 Batch    5/115   train_loss = 1.482\n",
      "Epoch  13 Batch   15/115   train_loss = 1.272\n",
      "Epoch  13 Batch   25/115   train_loss = 1.376\n",
      "Epoch  13 Batch   35/115   train_loss = 1.247\n",
      "Epoch  13 Batch   45/115   train_loss = 1.312\n",
      "Epoch  13 Batch   55/115   train_loss = 1.260\n",
      "Epoch  13 Batch   65/115   train_loss = 1.262\n",
      "Epoch  13 Batch   75/115   train_loss = 1.351\n",
      "Epoch  13 Batch   85/115   train_loss = 1.259\n",
      "Epoch  13 Batch   95/115   train_loss = 1.228\n",
      "Epoch  13 Batch  105/115   train_loss = 1.249\n",
      "Epoch  14 Batch    0/115   train_loss = 1.204\n",
      "Epoch  14 Batch   10/115   train_loss = 1.163\n",
      "Epoch  14 Batch   20/115   train_loss = 1.138\n",
      "Epoch  14 Batch   30/115   train_loss = 1.208\n",
      "Epoch  14 Batch   40/115   train_loss = 1.204\n",
      "Epoch  14 Batch   50/115   train_loss = 1.111\n",
      "Epoch  14 Batch   60/115   train_loss = 0.966\n",
      "Epoch  14 Batch   70/115   train_loss = 1.173\n",
      "Epoch  14 Batch   80/115   train_loss = 1.200\n",
      "Epoch  14 Batch   90/115   train_loss = 1.149\n",
      "Epoch  14 Batch  100/115   train_loss = 1.059\n",
      "Epoch  14 Batch  110/115   train_loss = 1.091\n",
      "Epoch  15 Batch    5/115   train_loss = 1.173\n",
      "Epoch  15 Batch   15/115   train_loss = 0.986\n",
      "Epoch  15 Batch   25/115   train_loss = 0.959\n",
      "Epoch  15 Batch   35/115   train_loss = 0.941\n",
      "Epoch  15 Batch   45/115   train_loss = 0.975\n",
      "Epoch  15 Batch   55/115   train_loss = 0.909\n",
      "Epoch  15 Batch   65/115   train_loss = 0.983\n",
      "Epoch  15 Batch   75/115   train_loss = 1.053\n",
      "Epoch  15 Batch   85/115   train_loss = 1.008\n",
      "Epoch  15 Batch   95/115   train_loss = 0.999\n",
      "Epoch  15 Batch  105/115   train_loss = 0.983\n",
      "Epoch  16 Batch    0/115   train_loss = 0.919\n",
      "Epoch  16 Batch   10/115   train_loss = 0.903\n",
      "Epoch  16 Batch   20/115   train_loss = 0.945\n",
      "Epoch  16 Batch   30/115   train_loss = 0.906\n",
      "Epoch  16 Batch   40/115   train_loss = 0.872\n",
      "Epoch  16 Batch   50/115   train_loss = 0.788\n",
      "Epoch  16 Batch   60/115   train_loss = 0.791\n",
      "Epoch  16 Batch   70/115   train_loss = 0.878\n",
      "Epoch  16 Batch   80/115   train_loss = 0.860\n",
      "Epoch  16 Batch   90/115   train_loss = 0.845\n",
      "Epoch  16 Batch  100/115   train_loss = 0.853\n",
      "Epoch  16 Batch  110/115   train_loss = 0.809\n",
      "Epoch  17 Batch    5/115   train_loss = 0.884\n",
      "Epoch  17 Batch   15/115   train_loss = 0.713\n",
      "Epoch  17 Batch   25/115   train_loss = 0.744\n",
      "Epoch  17 Batch   35/115   train_loss = 0.738\n",
      "Epoch  17 Batch   45/115   train_loss = 0.775\n",
      "Epoch  17 Batch   55/115   train_loss = 0.760\n",
      "Epoch  17 Batch   65/115   train_loss = 0.725\n",
      "Epoch  17 Batch   75/115   train_loss = 0.724\n",
      "Epoch  17 Batch   85/115   train_loss = 0.729\n",
      "Epoch  17 Batch   95/115   train_loss = 0.714\n",
      "Epoch  17 Batch  105/115   train_loss = 0.763\n",
      "Epoch  18 Batch    0/115   train_loss = 0.706\n",
      "Epoch  18 Batch   10/115   train_loss = 0.700\n",
      "Epoch  18 Batch   20/115   train_loss = 0.744\n",
      "Epoch  18 Batch   30/115   train_loss = 0.672\n",
      "Epoch  18 Batch   40/115   train_loss = 0.686\n",
      "Epoch  18 Batch   50/115   train_loss = 0.582\n",
      "Epoch  18 Batch   60/115   train_loss = 0.658\n",
      "Epoch  18 Batch   70/115   train_loss = 0.740\n",
      "Epoch  18 Batch   80/115   train_loss = 0.639\n",
      "Epoch  18 Batch   90/115   train_loss = 0.611\n",
      "Epoch  18 Batch  100/115   train_loss = 0.643\n",
      "Epoch  18 Batch  110/115   train_loss = 0.686\n",
      "Epoch  19 Batch    5/115   train_loss = 0.674\n",
      "Epoch  19 Batch   15/115   train_loss = 0.584\n",
      "Epoch  19 Batch   25/115   train_loss = 0.588\n",
      "Epoch  19 Batch   35/115   train_loss = 0.622\n",
      "Epoch  19 Batch   45/115   train_loss = 0.674\n",
      "Epoch  19 Batch   55/115   train_loss = 0.618\n",
      "Epoch  19 Batch   65/115   train_loss = 0.641\n",
      "Epoch  19 Batch   75/115   train_loss = 0.718\n",
      "Epoch  19 Batch   85/115   train_loss = 0.624\n",
      "Epoch  19 Batch   95/115   train_loss = 0.582\n",
      "Epoch  19 Batch  105/115   train_loss = 0.634\n",
      "Epoch  20 Batch    0/115   train_loss = 0.664\n",
      "Epoch  20 Batch   10/115   train_loss = 0.635\n",
      "Epoch  20 Batch   20/115   train_loss = 0.616\n",
      "Epoch  20 Batch   30/115   train_loss = 0.661\n",
      "Epoch  20 Batch   40/115   train_loss = 0.621\n",
      "Epoch  20 Batch   50/115   train_loss = 0.465\n",
      "Epoch  20 Batch   60/115   train_loss = 0.512\n",
      "Epoch  20 Batch   70/115   train_loss = 0.624\n",
      "Epoch  20 Batch   80/115   train_loss = 0.572\n",
      "Epoch  20 Batch   90/115   train_loss = 0.607\n",
      "Epoch  20 Batch  100/115   train_loss = 0.551\n",
      "Epoch  20 Batch  110/115   train_loss = 0.579\n",
      "Epoch  21 Batch    5/115   train_loss = 0.610\n",
      "Epoch  21 Batch   15/115   train_loss = 0.520\n",
      "Epoch  21 Batch   25/115   train_loss = 0.523\n",
      "Epoch  21 Batch   35/115   train_loss = 0.534\n",
      "Epoch  21 Batch   45/115   train_loss = 0.560\n",
      "Epoch  21 Batch   55/115   train_loss = 0.556\n",
      "Epoch  21 Batch   65/115   train_loss = 0.594\n",
      "Epoch  21 Batch   75/115   train_loss = 0.531\n",
      "Epoch  21 Batch   85/115   train_loss = 0.569\n",
      "Epoch  21 Batch   95/115   train_loss = 0.518\n",
      "Epoch  21 Batch  105/115   train_loss = 0.549\n",
      "Epoch  22 Batch    0/115   train_loss = 0.535\n",
      "Epoch  22 Batch   10/115   train_loss = 0.493\n",
      "Epoch  22 Batch   20/115   train_loss = 0.596\n",
      "Epoch  22 Batch   30/115   train_loss = 0.528\n",
      "Epoch  22 Batch   40/115   train_loss = 0.507\n",
      "Epoch  22 Batch   50/115   train_loss = 0.449\n",
      "Epoch  22 Batch   60/115   train_loss = 0.477\n",
      "Epoch  22 Batch   70/115   train_loss = 0.525\n",
      "Epoch  22 Batch   80/115   train_loss = 0.440\n",
      "Epoch  22 Batch   90/115   train_loss = 0.440\n",
      "Epoch  22 Batch  100/115   train_loss = 0.421\n",
      "Epoch  22 Batch  110/115   train_loss = 0.493\n",
      "Epoch  23 Batch    5/115   train_loss = 0.449\n",
      "Epoch  23 Batch   15/115   train_loss = 0.430\n",
      "Epoch  23 Batch   25/115   train_loss = 0.414\n",
      "Epoch  23 Batch   35/115   train_loss = 0.470\n",
      "Epoch  23 Batch   45/115   train_loss = 0.398\n",
      "Epoch  23 Batch   55/115   train_loss = 0.460\n",
      "Epoch  23 Batch   65/115   train_loss = 0.395\n",
      "Epoch  23 Batch   75/115   train_loss = 0.437\n",
      "Epoch  23 Batch   85/115   train_loss = 0.393\n",
      "Epoch  23 Batch   95/115   train_loss = 0.386\n",
      "Epoch  23 Batch  105/115   train_loss = 0.400\n",
      "Epoch  24 Batch    0/115   train_loss = 0.411\n",
      "Epoch  24 Batch   10/115   train_loss = 0.361\n",
      "Epoch  24 Batch   20/115   train_loss = 0.409\n",
      "Epoch  24 Batch   30/115   train_loss = 0.413\n",
      "Epoch  24 Batch   40/115   train_loss = 0.423\n",
      "Epoch  24 Batch   50/115   train_loss = 0.318\n",
      "Epoch  24 Batch   60/115   train_loss = 0.348\n",
      "Epoch  24 Batch   70/115   train_loss = 0.371\n",
      "Epoch  24 Batch   80/115   train_loss = 0.391\n",
      "Epoch  24 Batch   90/115   train_loss = 0.317\n",
      "Epoch  24 Batch  100/115   train_loss = 0.320\n",
      "Epoch  24 Batch  110/115   train_loss = 0.409\n",
      "Epoch  25 Batch    5/115   train_loss = 0.321\n",
      "Epoch  25 Batch   15/115   train_loss = 0.297\n",
      "Epoch  25 Batch   25/115   train_loss = 0.300\n",
      "Epoch  25 Batch   35/115   train_loss = 0.331\n",
      "Epoch  25 Batch   45/115   train_loss = 0.348\n",
      "Epoch  25 Batch   55/115   train_loss = 0.361\n",
      "Epoch  25 Batch   65/115   train_loss = 0.308\n",
      "Epoch  25 Batch   75/115   train_loss = 0.353\n",
      "Epoch  25 Batch   85/115   train_loss = 0.355\n",
      "Epoch  25 Batch   95/115   train_loss = 0.297\n",
      "Epoch  25 Batch  105/115   train_loss = 0.316\n",
      "Epoch  26 Batch    0/115   train_loss = 0.303\n",
      "Epoch  26 Batch   10/115   train_loss = 0.300\n",
      "Epoch  26 Batch   20/115   train_loss = 0.311\n",
      "Epoch  26 Batch   30/115   train_loss = 0.268\n",
      "Epoch  26 Batch   40/115   train_loss = 0.337\n",
      "Epoch  26 Batch   50/115   train_loss = 0.270\n",
      "Epoch  26 Batch   60/115   train_loss = 0.275\n",
      "Epoch  26 Batch   70/115   train_loss = 0.291\n",
      "Epoch  26 Batch   80/115   train_loss = 0.278\n",
      "Epoch  26 Batch   90/115   train_loss = 0.235\n",
      "Epoch  26 Batch  100/115   train_loss = 0.241\n",
      "Epoch  26 Batch  110/115   train_loss = 0.283\n",
      "Epoch  27 Batch    5/115   train_loss = 0.261\n",
      "Epoch  27 Batch   15/115   train_loss = 0.226\n",
      "Epoch  27 Batch   25/115   train_loss = 0.204\n",
      "Epoch  27 Batch   35/115   train_loss = 0.238\n",
      "Epoch  27 Batch   45/115   train_loss = 0.226\n",
      "Epoch  27 Batch   55/115   train_loss = 0.250\n",
      "Epoch  27 Batch   65/115   train_loss = 0.235\n",
      "Epoch  27 Batch   75/115   train_loss = 0.248\n",
      "Epoch  27 Batch   85/115   train_loss = 0.260\n",
      "Epoch  27 Batch   95/115   train_loss = 0.204\n",
      "Epoch  27 Batch  105/115   train_loss = 0.240\n",
      "Epoch  28 Batch    0/115   train_loss = 0.238\n",
      "Epoch  28 Batch   10/115   train_loss = 0.212\n",
      "Epoch  28 Batch   20/115   train_loss = 0.232\n",
      "Epoch  28 Batch   30/115   train_loss = 0.230\n",
      "Epoch  28 Batch   40/115   train_loss = 0.258\n",
      "Epoch  28 Batch   50/115   train_loss = 0.222\n",
      "Epoch  28 Batch   60/115   train_loss = 0.190\n",
      "Epoch  28 Batch   70/115   train_loss = 0.236\n",
      "Epoch  28 Batch   80/115   train_loss = 0.228\n",
      "Epoch  28 Batch   90/115   train_loss = 0.174\n",
      "Epoch  28 Batch  100/115   train_loss = 0.196\n",
      "Epoch  28 Batch  110/115   train_loss = 0.230\n",
      "Epoch  29 Batch    5/115   train_loss = 0.210\n",
      "Epoch  29 Batch   15/115   train_loss = 0.173\n",
      "Epoch  29 Batch   25/115   train_loss = 0.165\n",
      "Epoch  29 Batch   35/115   train_loss = 0.203\n",
      "Epoch  29 Batch   45/115   train_loss = 0.191\n",
      "Epoch  29 Batch   55/115   train_loss = 0.215\n",
      "Epoch  29 Batch   65/115   train_loss = 0.191\n",
      "Epoch  29 Batch   75/115   train_loss = 0.215\n",
      "Epoch  29 Batch   85/115   train_loss = 0.236\n",
      "Epoch  29 Batch   95/115   train_loss = 0.181\n",
      "Epoch  29 Batch  105/115   train_loss = 0.214\n",
      "Epoch  30 Batch    0/115   train_loss = 0.219\n",
      "Epoch  30 Batch   10/115   train_loss = 0.198\n",
      "Epoch  30 Batch   20/115   train_loss = 0.211\n",
      "Epoch  30 Batch   30/115   train_loss = 0.207\n",
      "Epoch  30 Batch   40/115   train_loss = 0.228\n",
      "Epoch  30 Batch   50/115   train_loss = 0.205\n",
      "Epoch  30 Batch   60/115   train_loss = 0.165\n",
      "Epoch  30 Batch   70/115   train_loss = 0.220\n",
      "Epoch  30 Batch   80/115   train_loss = 0.209\n",
      "Epoch  30 Batch   90/115   train_loss = 0.153\n",
      "Epoch  30 Batch  100/115   train_loss = 0.181\n",
      "Epoch  30 Batch  110/115   train_loss = 0.219\n",
      "Epoch  31 Batch    5/115   train_loss = 0.193\n",
      "Epoch  31 Batch   15/115   train_loss = 0.163\n",
      "Epoch  31 Batch   25/115   train_loss = 0.157\n",
      "Epoch  31 Batch   35/115   train_loss = 0.192\n",
      "Epoch  31 Batch   45/115   train_loss = 0.183\n",
      "Epoch  31 Batch   55/115   train_loss = 0.204\n",
      "Epoch  31 Batch   65/115   train_loss = 0.183\n",
      "Epoch  31 Batch   75/115   train_loss = 0.205\n",
      "Epoch  31 Batch   85/115   train_loss = 0.219\n",
      "Epoch  31 Batch   95/115   train_loss = 0.169\n",
      "Epoch  31 Batch  105/115   train_loss = 0.205\n",
      "Epoch  32 Batch    0/115   train_loss = 0.211\n",
      "Epoch  32 Batch   10/115   train_loss = 0.195\n",
      "Epoch  32 Batch   20/115   train_loss = 0.207\n",
      "Epoch  32 Batch   30/115   train_loss = 0.197\n",
      "Epoch  32 Batch   40/115   train_loss = 0.219\n",
      "Epoch  32 Batch   50/115   train_loss = 0.181\n",
      "Epoch  32 Batch   60/115   train_loss = 0.161\n",
      "Epoch  32 Batch   70/115   train_loss = 0.213\n",
      "Epoch  32 Batch   80/115   train_loss = 0.203\n",
      "Epoch  32 Batch   90/115   train_loss = 0.149\n",
      "Epoch  32 Batch  100/115   train_loss = 0.176\n",
      "Epoch  32 Batch  110/115   train_loss = 0.215\n",
      "Epoch  33 Batch    5/115   train_loss = 0.190\n",
      "Epoch  33 Batch   15/115   train_loss = 0.161\n",
      "Epoch  33 Batch   25/115   train_loss = 0.155\n",
      "Epoch  33 Batch   35/115   train_loss = 0.188\n",
      "Epoch  33 Batch   45/115   train_loss = 0.181\n",
      "Epoch  33 Batch   55/115   train_loss = 0.198\n",
      "Epoch  33 Batch   65/115   train_loss = 0.182\n",
      "Epoch  33 Batch   75/115   train_loss = 0.201\n",
      "Epoch  33 Batch   85/115   train_loss = 0.216\n",
      "Epoch  33 Batch   95/115   train_loss = 0.164\n",
      "Epoch  33 Batch  105/115   train_loss = 0.202\n",
      "Epoch  34 Batch    0/115   train_loss = 0.207\n",
      "Epoch  34 Batch   10/115   train_loss = 0.194\n",
      "Epoch  34 Batch   20/115   train_loss = 0.205\n",
      "Epoch  34 Batch   30/115   train_loss = 0.193\n",
      "Epoch  34 Batch   40/115   train_loss = 0.207\n",
      "Epoch  34 Batch   50/115   train_loss = 0.179\n",
      "Epoch  34 Batch   60/115   train_loss = 0.159\n",
      "Epoch  34 Batch   70/115   train_loss = 0.209\n",
      "Epoch  34 Batch   80/115   train_loss = 0.201\n",
      "Epoch  34 Batch   90/115   train_loss = 0.147\n",
      "Epoch  34 Batch  100/115   train_loss = 0.174\n",
      "Epoch  34 Batch  110/115   train_loss = 0.214\n",
      "Epoch  35 Batch    5/115   train_loss = 0.187\n",
      "Epoch  35 Batch   15/115   train_loss = 0.160\n",
      "Epoch  35 Batch   25/115   train_loss = 0.153\n",
      "Epoch  35 Batch   35/115   train_loss = 0.185\n",
      "Epoch  35 Batch   45/115   train_loss = 0.180\n",
      "Epoch  35 Batch   55/115   train_loss = 0.196\n",
      "Epoch  35 Batch   65/115   train_loss = 0.180\n",
      "Epoch  35 Batch   75/115   train_loss = 0.199\n",
      "Epoch  35 Batch   85/115   train_loss = 0.215\n",
      "Epoch  35 Batch   95/115   train_loss = 0.163\n",
      "Epoch  35 Batch  105/115   train_loss = 0.199\n",
      "Epoch  36 Batch    0/115   train_loss = 0.205\n",
      "Epoch  36 Batch   10/115   train_loss = 0.193\n",
      "Epoch  36 Batch   20/115   train_loss = 0.204\n",
      "Epoch  36 Batch   30/115   train_loss = 0.192\n",
      "Epoch  36 Batch   40/115   train_loss = 0.205\n",
      "Epoch  36 Batch   50/115   train_loss = 0.178\n",
      "Epoch  36 Batch   60/115   train_loss = 0.157\n",
      "Epoch  36 Batch   70/115   train_loss = 0.206\n",
      "Epoch  36 Batch   80/115   train_loss = 0.200\n",
      "Epoch  36 Batch   90/115   train_loss = 0.146\n",
      "Epoch  36 Batch  100/115   train_loss = 0.172\n",
      "Epoch  36 Batch  110/115   train_loss = 0.212\n",
      "Epoch  37 Batch    5/115   train_loss = 0.187\n",
      "Epoch  37 Batch   15/115   train_loss = 0.159\n",
      "Epoch  37 Batch   25/115   train_loss = 0.152\n",
      "Epoch  37 Batch   35/115   train_loss = 0.184\n",
      "Epoch  37 Batch   45/115   train_loss = 0.179\n",
      "Epoch  37 Batch   55/115   train_loss = 0.195\n",
      "Epoch  37 Batch   65/115   train_loss = 0.180\n",
      "Epoch  37 Batch   75/115   train_loss = 0.198\n",
      "Epoch  37 Batch   85/115   train_loss = 0.214\n",
      "Epoch  37 Batch   95/115   train_loss = 0.162\n",
      "Epoch  37 Batch  105/115   train_loss = 0.198\n",
      "Epoch  38 Batch    0/115   train_loss = 0.203\n",
      "Epoch  38 Batch   10/115   train_loss = 0.193\n",
      "Epoch  38 Batch   20/115   train_loss = 0.204\n",
      "Epoch  38 Batch   30/115   train_loss = 0.192\n",
      "Epoch  38 Batch   40/115   train_loss = 0.205\n",
      "Epoch  38 Batch   50/115   train_loss = 0.177\n",
      "Epoch  38 Batch   60/115   train_loss = 0.157\n",
      "Epoch  38 Batch   70/115   train_loss = 0.205\n",
      "Epoch  38 Batch   80/115   train_loss = 0.199\n",
      "Epoch  38 Batch   90/115   train_loss = 0.146\n",
      "Epoch  38 Batch  100/115   train_loss = 0.171\n",
      "Epoch  38 Batch  110/115   train_loss = 0.211\n",
      "Epoch  39 Batch    5/115   train_loss = 0.186\n",
      "Epoch  39 Batch   15/115   train_loss = 0.159\n",
      "Epoch  39 Batch   25/115   train_loss = 0.151\n",
      "Epoch  39 Batch   35/115   train_loss = 0.183\n",
      "Epoch  39 Batch   45/115   train_loss = 0.178\n",
      "Epoch  39 Batch   55/115   train_loss = 0.194\n",
      "Epoch  39 Batch   65/115   train_loss = 0.180\n",
      "Epoch  39 Batch   75/115   train_loss = 0.197\n",
      "Epoch  39 Batch   85/115   train_loss = 0.214\n",
      "Epoch  39 Batch   95/115   train_loss = 0.161\n",
      "Epoch  39 Batch  105/115   train_loss = 0.197\n",
      "Epoch  40 Batch    0/115   train_loss = 0.203\n",
      "Epoch  40 Batch   10/115   train_loss = 0.192\n",
      "Epoch  40 Batch   20/115   train_loss = 0.204\n",
      "Epoch  40 Batch   30/115   train_loss = 0.191\n",
      "Epoch  40 Batch   40/115   train_loss = 0.204\n",
      "Epoch  40 Batch   50/115   train_loss = 0.177\n",
      "Epoch  40 Batch   60/115   train_loss = 0.156\n",
      "Epoch  40 Batch   70/115   train_loss = 0.204\n",
      "Epoch  40 Batch   80/115   train_loss = 0.199\n",
      "Epoch  40 Batch   90/115   train_loss = 0.145\n",
      "Epoch  40 Batch  100/115   train_loss = 0.170\n",
      "Epoch  40 Batch  110/115   train_loss = 0.211\n",
      "Epoch  41 Batch    5/115   train_loss = 0.185\n",
      "Epoch  41 Batch   15/115   train_loss = 0.159\n",
      "Epoch  41 Batch   25/115   train_loss = 0.151\n",
      "Epoch  41 Batch   35/115   train_loss = 0.182\n",
      "Epoch  41 Batch   45/115   train_loss = 0.178\n",
      "Epoch  41 Batch   55/115   train_loss = 0.193\n",
      "Epoch  41 Batch   65/115   train_loss = 0.180\n",
      "Epoch  41 Batch   75/115   train_loss = 0.197\n",
      "Epoch  41 Batch   85/115   train_loss = 0.214\n",
      "Epoch  41 Batch   95/115   train_loss = 0.161\n",
      "Epoch  41 Batch  105/115   train_loss = 0.197\n",
      "Epoch  42 Batch    0/115   train_loss = 0.202\n",
      "Epoch  42 Batch   10/115   train_loss = 0.192\n",
      "Epoch  42 Batch   20/115   train_loss = 0.204\n",
      "Epoch  42 Batch   30/115   train_loss = 0.191\n",
      "Epoch  42 Batch   40/115   train_loss = 0.204\n",
      "Epoch  42 Batch   50/115   train_loss = 0.176\n",
      "Epoch  42 Batch   60/115   train_loss = 0.156\n",
      "Epoch  42 Batch   70/115   train_loss = 0.203\n",
      "Epoch  42 Batch   80/115   train_loss = 0.198\n",
      "Epoch  42 Batch   90/115   train_loss = 0.145\n",
      "Epoch  42 Batch  100/115   train_loss = 0.170\n",
      "Epoch  42 Batch  110/115   train_loss = 0.210\n",
      "Epoch  43 Batch    5/115   train_loss = 0.185\n",
      "Epoch  43 Batch   15/115   train_loss = 0.159\n",
      "Epoch  43 Batch   25/115   train_loss = 0.150\n",
      "Epoch  43 Batch   35/115   train_loss = 0.181\n",
      "Epoch  43 Batch   45/115   train_loss = 0.178\n",
      "Epoch  43 Batch   55/115   train_loss = 0.192\n",
      "Epoch  43 Batch   65/115   train_loss = 0.180\n",
      "Epoch  43 Batch   75/115   train_loss = 0.197\n",
      "Epoch  43 Batch   85/115   train_loss = 0.213\n",
      "Epoch  43 Batch   95/115   train_loss = 0.161\n",
      "Epoch  43 Batch  105/115   train_loss = 0.196\n",
      "Epoch  44 Batch    0/115   train_loss = 0.202\n",
      "Epoch  44 Batch   10/115   train_loss = 0.192\n",
      "Epoch  44 Batch   20/115   train_loss = 0.204\n",
      "Epoch  44 Batch   30/115   train_loss = 0.191\n",
      "Epoch  44 Batch   40/115   train_loss = 0.204\n",
      "Epoch  44 Batch   50/115   train_loss = 0.176\n",
      "Epoch  44 Batch   60/115   train_loss = 0.156\n",
      "Epoch  44 Batch   70/115   train_loss = 0.202\n",
      "Epoch  44 Batch   80/115   train_loss = 0.198\n",
      "Epoch  44 Batch   90/115   train_loss = 0.144\n",
      "Epoch  44 Batch  100/115   train_loss = 0.169\n",
      "Epoch  44 Batch  110/115   train_loss = 0.209\n",
      "Epoch  45 Batch    5/115   train_loss = 0.185\n",
      "Epoch  45 Batch   15/115   train_loss = 0.159\n",
      "Epoch  45 Batch   25/115   train_loss = 0.150\n",
      "Epoch  45 Batch   35/115   train_loss = 0.181\n",
      "Epoch  45 Batch   45/115   train_loss = 0.177\n",
      "Epoch  45 Batch   55/115   train_loss = 0.192\n",
      "Epoch  45 Batch   65/115   train_loss = 0.180\n",
      "Epoch  45 Batch   75/115   train_loss = 0.196\n",
      "Epoch  45 Batch   85/115   train_loss = 0.213\n",
      "Epoch  45 Batch   95/115   train_loss = 0.161\n",
      "Epoch  45 Batch  105/115   train_loss = 0.196\n",
      "Epoch  46 Batch    0/115   train_loss = 0.201\n",
      "Epoch  46 Batch   10/115   train_loss = 0.192\n",
      "Epoch  46 Batch   20/115   train_loss = 0.203\n",
      "Epoch  46 Batch   30/115   train_loss = 0.191\n",
      "Epoch  46 Batch   40/115   train_loss = 0.205\n",
      "Epoch  46 Batch   50/115   train_loss = 0.176\n",
      "Epoch  46 Batch   60/115   train_loss = 0.156\n",
      "Epoch  46 Batch   70/115   train_loss = 0.201\n",
      "Epoch  46 Batch   80/115   train_loss = 0.198\n",
      "Epoch  46 Batch   90/115   train_loss = 0.144\n",
      "Epoch  46 Batch  100/115   train_loss = 0.169\n",
      "Epoch  46 Batch  110/115   train_loss = 0.209\n",
      "Epoch  47 Batch    5/115   train_loss = 0.185\n",
      "Epoch  47 Batch   15/115   train_loss = 0.159\n",
      "Epoch  47 Batch   25/115   train_loss = 0.151\n",
      "Epoch  47 Batch   35/115   train_loss = 0.180\n",
      "Epoch  47 Batch   45/115   train_loss = 0.177\n",
      "Epoch  47 Batch   55/115   train_loss = 0.191\n",
      "Epoch  47 Batch   65/115   train_loss = 0.180\n",
      "Epoch  47 Batch   75/115   train_loss = 0.197\n",
      "Epoch  47 Batch   85/115   train_loss = 0.213\n",
      "Epoch  47 Batch   95/115   train_loss = 0.160\n",
      "Epoch  47 Batch  105/115   train_loss = 0.195\n",
      "Epoch  48 Batch    0/115   train_loss = 0.200\n",
      "Epoch  48 Batch   10/115   train_loss = 0.192\n",
      "Epoch  48 Batch   20/115   train_loss = 0.203\n",
      "Epoch  48 Batch   30/115   train_loss = 0.191\n",
      "Epoch  48 Batch   40/115   train_loss = 0.205\n",
      "Epoch  48 Batch   50/115   train_loss = 0.176\n",
      "Epoch  48 Batch   60/115   train_loss = 0.156\n",
      "Epoch  48 Batch   70/115   train_loss = 0.200\n",
      "Epoch  48 Batch   80/115   train_loss = 0.198\n",
      "Epoch  48 Batch   90/115   train_loss = 0.144\n",
      "Epoch  48 Batch  100/115   train_loss = 0.168\n",
      "Epoch  48 Batch  110/115   train_loss = 0.209\n",
      "Epoch  49 Batch    5/115   train_loss = 0.185\n",
      "Epoch  49 Batch   15/115   train_loss = 0.159\n",
      "Epoch  49 Batch   25/115   train_loss = 0.151\n",
      "Epoch  49 Batch   35/115   train_loss = 0.180\n",
      "Epoch  49 Batch   45/115   train_loss = 0.177\n",
      "Epoch  49 Batch   55/115   train_loss = 0.191\n",
      "Epoch  49 Batch   65/115   train_loss = 0.180\n",
      "Epoch  49 Batch   75/115   train_loss = 0.196\n",
      "Epoch  49 Batch   85/115   train_loss = 0.212\n",
      "Epoch  49 Batch   95/115   train_loss = 0.161\n",
      "Epoch  49 Batch  105/115   train_loss = 0.194\n",
      "Model Trained and Saved\n"
     ]
    }
   ],
   "source": [
    "\"\"\"\n",
    "DON'T MODIFY ANYTHING IN THIS CELL\n",
    "\"\"\"\n",
    "batches = get_batches(int_text, batch_size, seq_length)\n",
    "\n",
    "config = tf.ConfigProto()\n",
    "config.gpu_options.allow_growth = True\n",
    "with tf.Session(config=config,graph=train_graph) as sess:\n",
    "    sess.run(tf.global_variables_initializer())\n",
    "\n",
    "    for epoch_i in range(num_epochs):\n",
    "        state = sess.run(initial_state, {input_text: batches[0][0]})\n",
    "\n",
    "        for batch_i, (x, y) in enumerate(batches):\n",
    "            feed = {\n",
    "                input_text: x,\n",
    "                targets: y,\n",
    "                initial_state: state,\n",
    "                lr: learning_rate}\n",
    "            train_loss, state, _ = sess.run([cost, final_state, train_op], feed)\n",
    "\n",
    "            # Show every <show_every_n_batches> batches\n",
    "            if (epoch_i * len(batches) + batch_i) % show_every_n_batches == 0:\n",
    "                print('Epoch {:>3} Batch {:>4}/{}   train_loss = {:.3f}'.format(\n",
    "                    epoch_i,\n",
    "                    batch_i,\n",
    "                    len(batches),\n",
    "                    train_loss))\n",
    "\n",
    "    # Save Model\n",
    "    saver = tf.train.Saver()\n",
    "    saver.save(sess, save_dir)\n",
    "    print('Model Trained and Saved')"
   ]
  },
  {
   "cell_type": "markdown",
   "metadata": {
    "deletable": true,
    "editable": true
   },
   "source": [
    "## Save Parameters\n",
    "Save `seq_length` and `save_dir` for generating a new TV script."
   ]
  },
  {
   "cell_type": "code",
   "execution_count": 36,
   "metadata": {
    "collapsed": true,
    "deletable": true,
    "editable": true
   },
   "outputs": [],
   "source": [
    "\"\"\"\n",
    "DON'T MODIFY ANYTHING IN THIS CELL\n",
    "\"\"\"\n",
    "# Save parameters for checkpoint\n",
    "helper.save_params((seq_length, save_dir))"
   ]
  },
  {
   "cell_type": "markdown",
   "metadata": {
    "deletable": true,
    "editable": true
   },
   "source": [
    "# Checkpoint"
   ]
  },
  {
   "cell_type": "code",
   "execution_count": 37,
   "metadata": {
    "collapsed": true,
    "deletable": true,
    "editable": true
   },
   "outputs": [],
   "source": [
    "\"\"\"\n",
    "DON'T MODIFY ANYTHING IN THIS CELL\n",
    "\"\"\"\n",
    "import tensorflow as tf\n",
    "import numpy as np\n",
    "import helper\n",
    "import problem_unittests as tests\n",
    "\n",
    "_, vocab_to_int, int_to_vocab, token_dict = helper.load_preprocess()\n",
    "seq_length, load_dir = helper.load_params()"
   ]
  },
  {
   "cell_type": "markdown",
   "metadata": {
    "deletable": true,
    "editable": true
   },
   "source": [
    "## Implement Generate Functions\n",
    "### Get Tensors\n",
    "Get tensors from `loaded_graph` using the function [`get_tensor_by_name()`](https://www.tensorflow.org/api_docs/python/tf/Graph#get_tensor_by_name).  Get the tensors using the following names:\n",
    "- \"input:0\"\n",
    "- \"initial_state:0\"\n",
    "- \"final_state:0\"\n",
    "- \"probs:0\"\n",
    "\n",
    "Return the tensors in the following tuple `(InputTensor, InitialStateTensor, FinalStateTensor, ProbsTensor)` "
   ]
  },
  {
   "cell_type": "code",
   "execution_count": 38,
   "metadata": {
    "collapsed": false,
    "deletable": true,
    "editable": true
   },
   "outputs": [
    {
     "name": "stdout",
     "output_type": "stream",
     "text": [
      "Tests Passed\n"
     ]
    }
   ],
   "source": [
    "def get_tensors(loaded_graph):\n",
    "    \"\"\"\n",
    "    Get input, initial state, final state, and probabilities tensor from <loaded_graph>\n",
    "    :param loaded_graph: TensorFlow graph loaded from file\n",
    "    :return: Tuple (InputTensor, InitialStateTensor, FinalStateTensor, ProbsTensor)\n",
    "    \"\"\"\n",
    "    # TODO: Implement Function\n",
    "    InputTensor=loaded_graph.get_tensor_by_name(\"input:0\")\n",
    "    InitialStateTensor=loaded_graph.get_tensor_by_name(\"initial_state:0\")\n",
    "    FinalStateTensor=loaded_graph.get_tensor_by_name(\"final_state:0\")\n",
    "    ProbsTensor=loaded_graph.get_tensor_by_name(\"probs:0\")\n",
    "    return InputTensor, InitialStateTensor, FinalStateTensor, ProbsTensor\n",
    "\n",
    "\n",
    "\"\"\"\n",
    "DON'T MODIFY ANYTHING IN THIS CELL THAT IS BELOW THIS LINE\n",
    "\"\"\"\n",
    "tests.test_get_tensors(get_tensors)"
   ]
  },
  {
   "cell_type": "markdown",
   "metadata": {
    "deletable": true,
    "editable": true
   },
   "source": [
    "### Choose Word\n",
    "Implement the `pick_word()` function to select the next word using `probabilities`."
   ]
  },
  {
   "cell_type": "code",
   "execution_count": 39,
   "metadata": {
    "collapsed": false,
    "deletable": true,
    "editable": true
   },
   "outputs": [
    {
     "name": "stdout",
     "output_type": "stream",
     "text": [
      "Tests Passed\n"
     ]
    }
   ],
   "source": [
    "def pick_word(probabilities, int_to_vocab):\n",
    "    \"\"\"\n",
    "    Pick the next word in the generated text\n",
    "    :param probabilities: Probabilites of the next word\n",
    "    :param int_to_vocab: Dictionary of word ids as the keys and words as the values\n",
    "    :return: String of the predicted word\n",
    "    \"\"\"\n",
    "    # TODO: Implement Function\n",
    "    return np.random.choice(list(int_to_vocab.values()), p=probabilities)\n",
    "\n",
    "\n",
    "\"\"\"\n",
    "DON'T MODIFY ANYTHING IN THIS CELL THAT IS BELOW THIS LINE\n",
    "\"\"\"\n",
    "tests.test_pick_word(pick_word)"
   ]
  },
  {
   "cell_type": "markdown",
   "metadata": {
    "deletable": true,
    "editable": true
   },
   "source": [
    "## Generate TV Script\n",
    "This will generate the TV script for you.  Set `gen_length` to the length of TV script you want to generate."
   ]
  },
  {
   "cell_type": "code",
   "execution_count": 40,
   "metadata": {
    "collapsed": false,
    "deletable": true,
    "editable": true
   },
   "outputs": [
    {
     "name": "stdout",
     "output_type": "stream",
     "text": [
      "moe_szyslak: oh yeah.\n",
      "marge_simpson: until you pay us back, you're answering to me! and there's gonna be anyway to the woman.(chuckle)\n",
      "moe_szyslak:(looking, a little beer!) and you won't see?\n",
      "lenny_leonard:(helpful) i'm a crony.\n",
      "carl_carlson:(calling out) don't you go, old here.\n",
      "homer_simpson:(sarcastic) oh, no. that's me! and it's you, isn't it?\n",
      "moe_szyslak: i... i was marge's landlord i'd fix her pipes and i'd shower her what's to her.\n",
      "homer_simpson: oh, man, i was thinking how about the boy kids...\n",
      "moe_szyslak: yeah, well, whenever i do things it online, but what's this matter, saint six of the super.\n",
      "moe_szyslak: but what if you want to be a snitch, homer?\n",
      "homer_simpson:(touched) gee, thanks, moe... uh...(to homer) hey, ah, / is that the sign, right.\n",
      "moe_szyslak: oh, the duel\n"
     ]
    }
   ],
   "source": [
    "gen_length = 200\n",
    "# homer_simpson, moe_szyslak, or Barney_Gumble\n",
    "prime_word = 'moe_szyslak'\n",
    "\n",
    "\"\"\"\n",
    "DON'T MODIFY ANYTHING IN THIS CELL THAT IS BELOW THIS LINE\n",
    "\"\"\"\n",
    "loaded_graph = tf.Graph()\n",
    "with tf.Session(graph=loaded_graph) as sess:\n",
    "    # Load saved model\n",
    "    loader = tf.train.import_meta_graph(load_dir + '.meta')\n",
    "    loader.restore(sess, load_dir)\n",
    "\n",
    "    # Get Tensors from loaded model\n",
    "    input_text, initial_state, final_state, probs = get_tensors(loaded_graph)\n",
    "\n",
    "    # Sentences generation setup\n",
    "    gen_sentences = [prime_word + ':']\n",
    "    prev_state = sess.run(initial_state, {input_text: np.array([[1]])})\n",
    "\n",
    "    # Generate sentences\n",
    "    for n in range(gen_length):\n",
    "        # Dynamic Input\n",
    "        dyn_input = [[vocab_to_int[word] for word in gen_sentences[-seq_length:]]]\n",
    "        dyn_seq_length = len(dyn_input[0])\n",
    "\n",
    "        # Get Prediction\n",
    "        probabilities, prev_state = sess.run(\n",
    "            [probs, final_state],\n",
    "            {input_text: dyn_input, initial_state: prev_state})\n",
    "        \n",
    "        pred_word = pick_word(probabilities[dyn_seq_length-1], int_to_vocab)\n",
    "\n",
    "        gen_sentences.append(pred_word)\n",
    "    \n",
    "    # Remove tokens\n",
    "    tv_script = ' '.join(gen_sentences)\n",
    "    for key, token in token_dict.items():\n",
    "        ending = ' ' if key in ['\\n', '(', '\"'] else ''\n",
    "        tv_script = tv_script.replace(' ' + token.lower(), key)\n",
    "    tv_script = tv_script.replace('\\n ', '\\n')\n",
    "    tv_script = tv_script.replace('( ', '(')\n",
    "        \n",
    "    print(tv_script)"
   ]
  },
  {
   "cell_type": "markdown",
   "metadata": {
    "deletable": true,
    "editable": true
   },
   "source": [
    "# The TV Script is Nonsensical\n",
    "It's ok if the TV script doesn't make any sense.  We trained on less than a megabyte of text.  In order to get good results, you'll have to use a smaller vocabulary or get more data.  Luckly there's more data!  As we mentioned in the begging of this project, this is a subset of [another dataset](https://www.kaggle.com/wcukierski/the-simpsons-by-the-data).  We didn't have you train on all the data, because that would take too long.  However, you are free to train your neural network on all the data.  After you complete the project, of course.\n",
    "# Submitting This Project\n",
    "When submitting this project, make sure to run all the cells before saving the notebook. Save the notebook file as \"dlnd_tv_script_generation.ipynb\" and save it as a HTML file under \"File\" -> \"Download as\". Include the \"helper.py\" and \"problem_unittests.py\" files in your submission."
   ]
  }
 ],
 "metadata": {
  "kernelspec": {
   "display_name": "Python 3",
   "language": "python",
   "name": "python3"
  },
  "language_info": {
   "codemirror_mode": {
    "name": "ipython",
    "version": 3
   },
   "file_extension": ".py",
   "mimetype": "text/x-python",
   "name": "python",
   "nbconvert_exporter": "python",
   "pygments_lexer": "ipython3",
   "version": "3.5.3"
  },
  "widgets": {
   "state": {},
   "version": "1.1.2"
  }
 },
 "nbformat": 4,
 "nbformat_minor": 1
}

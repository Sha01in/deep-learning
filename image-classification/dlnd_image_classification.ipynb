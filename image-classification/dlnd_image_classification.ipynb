{
 "cells": [
  {
   "cell_type": "markdown",
   "metadata": {
    "collapsed": true,
    "deletable": true,
    "editable": true
   },
   "source": [
    "# Image Classification\n",
    "In this project, you'll classify images from the [CIFAR-10 dataset](https://www.cs.toronto.edu/~kriz/cifar.html).  The dataset consists of airplanes, dogs, cats, and other objects. You'll preprocess the images, then train a convolutional neural network on all the samples. The images need to be normalized and the labels need to be one-hot encoded.  You'll get to apply what you learned and build a convolutional, max pooling, dropout, and fully connected layers.  At the end, you'll get to see your neural network's predictions on the sample images.\n",
    "## Get the Data\n",
    "Run the following cell to download the [CIFAR-10 dataset for python](https://www.cs.toronto.edu/~kriz/cifar-10-python.tar.gz)."
   ]
  },
  {
   "cell_type": "code",
   "execution_count": 1,
   "metadata": {
    "collapsed": false,
    "deletable": true,
    "editable": true
   },
   "outputs": [
    {
     "name": "stdout",
     "output_type": "stream",
     "text": [
      "All files found!\n"
     ]
    }
   ],
   "source": [
    "\"\"\"\n",
    "DON'T MODIFY ANYTHING IN THIS CELL THAT IS BELOW THIS LINE\n",
    "\"\"\"\n",
    "from urllib.request import urlretrieve\n",
    "from os.path import isfile, isdir\n",
    "from tqdm import tqdm\n",
    "import problem_unittests as tests\n",
    "import tarfile\n",
    "\n",
    "cifar10_dataset_folder_path = 'cifar-10-batches-py'\n",
    "\n",
    "# Use Floyd's cifar-10 dataset if present\n",
    "floyd_cifar10_location = '/input/cifar-10/python.tar.gz'\n",
    "if isfile(floyd_cifar10_location):\n",
    "    tar_gz_path = floyd_cifar10_location\n",
    "else:\n",
    "    tar_gz_path = 'cifar-10-python.tar.gz'\n",
    "\n",
    "class DLProgress(tqdm):\n",
    "    last_block = 0\n",
    "\n",
    "    def hook(self, block_num=1, block_size=1, total_size=None):\n",
    "        self.total = total_size\n",
    "        self.update((block_num - self.last_block) * block_size)\n",
    "        self.last_block = block_num\n",
    "\n",
    "if not isfile(tar_gz_path):\n",
    "    with DLProgress(unit='B', unit_scale=True, miniters=1, desc='CIFAR-10 Dataset') as pbar:\n",
    "        urlretrieve(\n",
    "            'https://www.cs.toronto.edu/~kriz/cifar-10-python.tar.gz',\n",
    "            tar_gz_path,\n",
    "            pbar.hook)\n",
    "\n",
    "if not isdir(cifar10_dataset_folder_path):\n",
    "    with tarfile.open(tar_gz_path) as tar:\n",
    "        tar.extractall()\n",
    "        tar.close()\n",
    "\n",
    "\n",
    "tests.test_folder_path(cifar10_dataset_folder_path)"
   ]
  },
  {
   "cell_type": "markdown",
   "metadata": {
    "deletable": true,
    "editable": true
   },
   "source": [
    "## Explore the Data\n",
    "The dataset is broken into batches to prevent your machine from running out of memory.  The CIFAR-10 dataset consists of 5 batches, named `data_batch_1`, `data_batch_2`, etc.. Each batch contains the labels and images that are one of the following:\n",
    "* airplane\n",
    "* automobile\n",
    "* bird\n",
    "* cat\n",
    "* deer\n",
    "* dog\n",
    "* frog\n",
    "* horse\n",
    "* ship\n",
    "* truck\n",
    "\n",
    "Understanding a dataset is part of making predictions on the data.  Play around with the code cell below by changing the `batch_id` and `sample_id`. The `batch_id` is the id for a batch (1-5). The `sample_id` is the id for a image and label pair in the batch.\n",
    "\n",
    "Ask yourself \"What are all possible labels?\", \"What is the range of values for the image data?\", \"Are the labels in order or random?\".  Answers to questions like these will help you preprocess the data and end up with better predictions."
   ]
  },
  {
   "cell_type": "code",
   "execution_count": 2,
   "metadata": {
    "collapsed": false,
    "deletable": true,
    "editable": true
   },
   "outputs": [
    {
     "name": "stdout",
     "output_type": "stream",
     "text": [
      "\n",
      "Stats of batch 1:\n",
      "Samples: 10000\n",
      "Label Counts: {0: 1005, 1: 974, 2: 1032, 3: 1016, 4: 999, 5: 937, 6: 1030, 7: 1001, 8: 1025, 9: 981}\n",
      "First 20 Labels: [6, 9, 9, 4, 1, 1, 2, 7, 8, 3, 4, 7, 7, 2, 9, 9, 9, 3, 2, 6]\n",
      "\n",
      "Example of Image 5:\n",
      "Image - Min Value: 0 Max Value: 252\n",
      "Image - Shape: (32, 32, 3)\n",
      "Label - Label Id: 1 Name: automobile\n"
     ]
    },
    {
     "data": {
      "image/png": "[encoded data removed]",
      "text/plain": [
       "<matplotlib.figure.Figure at 0x7f9a2ca2a4e0>"
      ]
     },
     "metadata": {
      "image/png": {
       "height": 250,
       "width": 253
      }
     },
     "output_type": "display_data"
    }
   ],
   "source": [
    "%matplotlib inline\n",
    "%config InlineBackend.figure_format = 'retina'\n",
    "\n",
    "import helper\n",
    "import numpy as np\n",
    "\n",
    "# Explore the dataset\n",
    "batch_id = 1\n",
    "sample_id = 5\n",
    "helper.display_stats(cifar10_dataset_folder_path, batch_id, sample_id)"
   ]
  },
  {
   "cell_type": "markdown",
   "metadata": {
    "deletable": true,
    "editable": true
   },
   "source": [
    "## Implement Preprocess Functions\n",
    "### Normalize\n",
    "In the cell below, implement the `normalize` function to take in image data, `x`, and return it as a normalized Numpy array. The values should be in the range of 0 to 1, inclusive.  The return object should be the same shape as `x`."
   ]
  },
  {
   "cell_type": "code",
   "execution_count": 3,
   "metadata": {
    "collapsed": false,
    "deletable": true,
    "editable": true
   },
   "outputs": [
    {
     "name": "stdout",
     "output_type": "stream",
     "text": [
      "Tests Passed\n"
     ]
    }
   ],
   "source": [
    "def normalize(x):\n",
    "    \"\"\"\n",
    "    Normalize a list of sample image data in the range of 0 to 1\n",
    "    : x: List of image data.  The image shape is (32, 32, 3)\n",
    "    : return: Numpy array of normalize data\n",
    "    \"\"\"\n",
    "    # TODO: Implement Function\n",
    "    return np.array((x - np.min(x)) / (np.max(x) - np.min(x)))\n",
    "\n",
    "\n",
    "\"\"\"\n",
    "DON'T MODIFY ANYTHING IN THIS CELL THAT IS BELOW THIS LINE\n",
    "\"\"\"\n",
    "tests.test_normalize(normalize)"
   ]
  },
  {
   "cell_type": "markdown",
   "metadata": {
    "deletable": true,
    "editable": true
   },
   "source": [
    "### One-hot encode\n",
    "Just like the previous code cell, you'll be implementing a function for preprocessing.  This time, you'll implement the `one_hot_encode` function. The input, `x`, are a list of labels.  Implement the function to return the list of labels as One-Hot encoded Numpy array.  The possible values for labels are 0 to 9. The one-hot encoding function should return the same encoding for each value between each call to `one_hot_encode`.  Make sure to save the map of encodings outside the function.\n",
    "\n",
    "Hint: Don't reinvent the wheel."
   ]
  },
  {
   "cell_type": "code",
   "execution_count": 4,
   "metadata": {
    "collapsed": false,
    "deletable": true,
    "editable": true
   },
   "outputs": [
    {
     "name": "stdout",
     "output_type": "stream",
     "text": [
      "Tests Passed\n"
     ]
    }
   ],
   "source": [
    "from sklearn import preprocessing\n",
    "\n",
    "def one_hot_encode(x):\n",
    "    \"\"\"\n",
    "    One hot encode a list of sample labels. Return a one-hot encoded vector for each label.\n",
    "    : x: List of sample Labels\n",
    "    : return: Numpy array of one-hot encoded labels\n",
    "    \"\"\"\n",
    "    # TODO: Implement Function\n",
    "    lb = preprocessing.LabelBinarizer()\n",
    "    lb.fit(range(10))\n",
    "    return lb.transform(x)\n",
    "\n",
    "\"\"\"\n",
    "DON'T MODIFY ANYTHING IN THIS CELL THAT IS BELOW THIS LINE\n",
    "\"\"\"\n",
    "tests.test_one_hot_encode(one_hot_encode)"
   ]
  },
  {
   "cell_type": "markdown",
   "metadata": {
    "deletable": true,
    "editable": true
   },
   "source": [
    "### Randomize Data\n",
    "As you saw from exploring the data above, the order of the samples are randomized.  It doesn't hurt to randomize it again, but you don't need to for this dataset."
   ]
  },
  {
   "cell_type": "markdown",
   "metadata": {
    "deletable": true,
    "editable": true
   },
   "source": [
    "## Preprocess all the data and save it\n",
    "Running the code cell below will preprocess all the CIFAR-10 data and save it to file. The code below also uses 10% of the training data for validation."
   ]
  },
  {
   "cell_type": "code",
   "execution_count": 5,
   "metadata": {
    "collapsed": true,
    "deletable": true,
    "editable": true
   },
   "outputs": [],
   "source": [
    "\"\"\"\n",
    "DON'T MODIFY ANYTHING IN THIS CELL\n",
    "\"\"\"\n",
    "# Preprocess Training, Validation, and Testing Data\n",
    "helper.preprocess_and_save_data(cifar10_dataset_folder_path, normalize, one_hot_encode)"
   ]
  },
  {
   "cell_type": "markdown",
   "metadata": {
    "deletable": true,
    "editable": true
   },
   "source": [
    "# Check Point\n",
    "This is your first checkpoint.  If you ever decide to come back to this notebook or have to restart the notebook, you can start from here.  The preprocessed data has been saved to disk."
   ]
  },
  {
   "cell_type": "code",
   "execution_count": 6,
   "metadata": {
    "collapsed": true,
    "deletable": true,
    "editable": true
   },
   "outputs": [],
   "source": [
    "\"\"\"\n",
    "DON'T MODIFY ANYTHING IN THIS CELL\n",
    "\"\"\"\n",
    "import pickle\n",
    "import problem_unittests as tests\n",
    "import helper\n",
    "\n",
    "# Load the Preprocessed Validation data\n",
    "valid_features, valid_labels = pickle.load(open('preprocess_validation.p', mode='rb'))"
   ]
  },
  {
   "cell_type": "markdown",
   "metadata": {
    "deletable": true,
    "editable": true
   },
   "source": [
    "## Build the network\n",
    "For the neural network, you'll build each layer into a function.  Most of the code you've seen has been outside of functions. To test your code more thoroughly, we require that you put each layer in a function.  This allows us to give you better feedback and test for simple mistakes using our unittests before you submit your project.\n",
    "\n",
    ">**Note:** If you're finding it hard to dedicate enough time for this course each week, we've provided a small shortcut to this part of the project. In the next couple of problems, you'll have the option to use classes from the [TensorFlow Layers](https://www.tensorflow.org/api_docs/python/tf/layers) or [TensorFlow Layers (contrib)](https://www.tensorflow.org/api_guides/python/contrib.layers) packages to build each layer, except the layers you build in the \"Convolutional and Max Pooling Layer\" section.  TF Layers is similar to Keras's and TFLearn's abstraction to layers, so it's easy to pickup.\n",
    "\n",
    ">However, if you would like to get the most out of this course, try to solve all the problems _without_ using anything from the TF Layers packages. You **can** still use classes from other packages that happen to have the same name as ones you find in TF Layers! For example, instead of using the TF Layers version of the `conv2d` class, [tf.layers.conv2d](https://www.tensorflow.org/api_docs/python/tf/layers/conv2d), you would want to use the TF Neural Network version of `conv2d`, [tf.nn.conv2d](https://www.tensorflow.org/api_docs/python/tf/nn/conv2d). \n",
    "\n",
    "Let's begin!\n",
    "\n",
    "### Input\n",
    "The neural network needs to read the image data, one-hot encoded labels, and dropout keep probability. Implement the following functions\n",
    "* Implement `neural_net_image_input`\n",
    " * Return a [TF Placeholder](https://www.tensorflow.org/api_docs/python/tf/placeholder)\n",
    " * Set the shape using `image_shape` with batch size set to `None`.\n",
    " * Name the TensorFlow placeholder \"x\" using the TensorFlow `name` parameter in the [TF Placeholder](https://www.tensorflow.org/api_docs/python/tf/placeholder).\n",
    "* Implement `neural_net_label_input`\n",
    " * Return a [TF Placeholder](https://www.tensorflow.org/api_docs/python/tf/placeholder)\n",
    " * Set the shape using `n_classes` with batch size set to `None`.\n",
    " * Name the TensorFlow placeholder \"y\" using the TensorFlow `name` parameter in the [TF Placeholder](https://www.tensorflow.org/api_docs/python/tf/placeholder).\n",
    "* Implement `neural_net_keep_prob_input`\n",
    " * Return a [TF Placeholder](https://www.tensorflow.org/api_docs/python/tf/placeholder) for dropout keep probability.\n",
    " * Name the TensorFlow placeholder \"keep_prob\" using the TensorFlow `name` parameter in the [TF Placeholder](https://www.tensorflow.org/api_docs/python/tf/placeholder).\n",
    "\n",
    "These names will be used at the end of the project to load your saved model.\n",
    "\n",
    "Note: `None` for shapes in TensorFlow allow for a dynamic size."
   ]
  },
  {
   "cell_type": "code",
   "execution_count": 7,
   "metadata": {
    "collapsed": false,
    "deletable": true,
    "editable": true
   },
   "outputs": [
    {
     "name": "stdout",
     "output_type": "stream",
     "text": [
      "Image Input Tests Passed.\n",
      "Label Input Tests Passed.\n",
      "Keep Prob Tests Passed.\n"
     ]
    }
   ],
   "source": [
    "import tensorflow as tf\n",
    "\n",
    "def neural_net_image_input(image_shape):\n",
    "    \"\"\"\n",
    "    Return a Tensor for a batch of image input\n",
    "    : image_shape: Shape of the images\n",
    "    : return: Tensor for image input.\n",
    "    \"\"\"\n",
    "    # TODO: Implement Function\n",
    "    return tf.placeholder(tf.float32, shape=[None, *image_shape], name=\"x\")\n",
    "\n",
    "\n",
    "def neural_net_label_input(n_classes):\n",
    "    \"\"\"\n",
    "    Return a Tensor for a batch of label input\n",
    "    : n_classes: Number of classes\n",
    "    : return: Tensor for label input.\n",
    "    \"\"\"\n",
    "    # TODO: Implement Function\n",
    "    return tf.placeholder(tf.float32, shape=[None, n_classes], name=\"y\")\n",
    "\n",
    "\n",
    "def neural_net_keep_prob_input():\n",
    "    \"\"\"\n",
    "    Return a Tensor for keep probability\n",
    "    : return: Tensor for keep probability.\n",
    "    \"\"\"\n",
    "    # TODO: Implement Function\n",
    "    return tf.placeholder(tf.float32, name=\"keep_prob\")\n",
    "\n",
    "\n",
    "\"\"\"\n",
    "DON'T MODIFY ANYTHING IN THIS CELL THAT IS BELOW THIS LINE\n",
    "\"\"\"\n",
    "tf.reset_default_graph()\n",
    "tests.test_nn_image_inputs(neural_net_image_input)\n",
    "tests.test_nn_label_inputs(neural_net_label_input)\n",
    "tests.test_nn_keep_prob_inputs(neural_net_keep_prob_input)"
   ]
  },
  {
   "cell_type": "markdown",
   "metadata": {
    "deletable": true,
    "editable": true
   },
   "source": [
    "### Convolution and Max Pooling Layer\n",
    "Convolution layers have a lot of success with images. For this code cell, you should implement the function `conv2d_maxpool` to apply convolution then max pooling:\n",
    "* Create the weight and bias using `conv_ksize`, `conv_num_outputs` and the shape of `x_tensor`.\n",
    "* Apply a convolution to `x_tensor` using weight and `conv_strides`.\n",
    " * We recommend you use same padding, but you're welcome to use any padding.\n",
    "* Add bias\n",
    "* Add a nonlinear activation to the convolution.\n",
    "* Apply Max Pooling using `pool_ksize` and `pool_strides`.\n",
    " * We recommend you use same padding, but you're welcome to use any padding.\n",
    "\n",
    "**Note:** You **can't** use [TensorFlow Layers](https://www.tensorflow.org/api_docs/python/tf/layers) or [TensorFlow Layers (contrib)](https://www.tensorflow.org/api_guides/python/contrib.layers) for **this** layer, but you can still use TensorFlow's [Neural Network](https://www.tensorflow.org/api_docs/python/tf/nn) package. You may still use the shortcut option for all the **other** layers."
   ]
  },
  {
   "cell_type": "code",
   "execution_count": 8,
   "metadata": {
    "collapsed": false,
    "deletable": true,
    "editable": true
   },
   "outputs": [
    {
     "name": "stdout",
     "output_type": "stream",
     "text": [
      "Tests Passed\n"
     ]
    }
   ],
   "source": [
    "def conv2d_maxpool(x_tensor, conv_num_outputs, conv_ksize, conv_strides, pool_ksize, pool_strides):\n",
    "    \"\"\"\n",
    "    Apply convolution then max pooling to x_tensor\n",
    "    :param x_tensor: TensorFlow Tensor\n",
    "    :param conv_num_outputs: Number of outputs for the convolutional layer\n",
    "    :param conv_ksize: kernal size 2-D Tuple for the convolutional layer\n",
    "    :param conv_strides: Stride 2-D Tuple for convolution\n",
    "    :param pool_ksize: kernal size 2-D Tuple for pool\n",
    "    :param pool_strides: Stride 2-D Tuple for pool\n",
    "    : return: A tensor that represents convolution and max pooling of x_tensor\n",
    "    \"\"\"\n",
    "    # TODO: Implement Function\n",
    "    height = conv_ksize[0]\n",
    "    width = conv_ksize[1]\n",
    "    color_channels = x_tensor.get_shape().as_list()[3]\n",
    "    # Weights & bias\n",
    "    weights = tf.Variable(tf.truncated_normal([height, width, color_channels, conv_num_outputs]))\n",
    "    bias = tf.Variable(tf.zeros(conv_num_outputs))\n",
    "    # Apply Convolution\n",
    "    l_conv_strides = list(conv_strides)\n",
    "    l_conv_strides.insert(0,1)\n",
    "    l_conv_strides.append(1)\n",
    "    conv_strides=tuple(l_conv_strides)\n",
    "    l_pool_ksize=list(pool_ksize)\n",
    "    l_pool_ksize.insert(0,1)\n",
    "    l_pool_ksize.append(1)\n",
    "    pool_ksize=tuple(l_pool_ksize)\n",
    "    l_pool_strides=list(pool_strides)\n",
    "    l_pool_strides.insert(0,1)\n",
    "    l_pool_strides.append(1)\n",
    "    pool_strides=tuple(l_pool_strides)\n",
    "    conv_layer = tf.nn.conv2d(x_tensor, weights, conv_strides, padding='SAME')\n",
    "    # Add bias\n",
    "    conv_layer = tf.nn.bias_add(conv_layer, bias)\n",
    "    # Apply activation function\n",
    "    conv_layer = tf.nn.relu(conv_layer)\n",
    "    # Apply Max Pooling\n",
    "    conv_layer = tf.nn.max_pool(conv_layer, ksize=pool_ksize, strides=pool_strides, padding='SAME')\n",
    "    return conv_layer\n",
    "\n",
    "\n",
    "\"\"\"\n",
    "DON'T MODIFY ANYTHING IN THIS CELL THAT IS BELOW THIS LINE\n",
    "\"\"\"\n",
    "tests.test_con_pool(conv2d_maxpool)"
   ]
  },
  {
   "cell_type": "markdown",
   "metadata": {
    "deletable": true,
    "editable": true
   },
   "source": [
    "### Flatten Layer\n",
    "Implement the `flatten` function to change the dimension of `x_tensor` from a 4-D tensor to a 2-D tensor.  The output should be the shape (*Batch Size*, *Flattened Image Size*). Shortcut option: you can use classes from the [TensorFlow Layers](https://www.tensorflow.org/api_docs/python/tf/layers) or [TensorFlow Layers (contrib)](https://www.tensorflow.org/api_guides/python/contrib.layers) packages for this layer. For more of a challenge, only use other TensorFlow packages."
   ]
  },
  {
   "cell_type": "code",
   "execution_count": 9,
   "metadata": {
    "collapsed": false,
    "deletable": true,
    "editable": true
   },
   "outputs": [
    {
     "name": "stdout",
     "output_type": "stream",
     "text": [
      "Tests Passed\n"
     ]
    }
   ],
   "source": [
    "def flatten(x_tensor):\n",
    "    \"\"\"\n",
    "    Flatten x_tensor to (Batch Size, Flattened Image Size)\n",
    "    : x_tensor: A tensor of size (Batch Size, ...), where ... are the image dimensions.\n",
    "    : return: A tensor of size (Batch Size, Flattened Image Size).\n",
    "    \"\"\"\n",
    "    # TODO: Implement Function\n",
    "    return tf.contrib.layers.flatten(x_tensor)\n",
    "\n",
    "\n",
    "\"\"\"\n",
    "DON'T MODIFY ANYTHING IN THIS CELL THAT IS BELOW THIS LINE\n",
    "\"\"\"\n",
    "tests.test_flatten(flatten)"
   ]
  },
  {
   "cell_type": "markdown",
   "metadata": {
    "deletable": true,
    "editable": true
   },
   "source": [
    "### Fully-Connected Layer\n",
    "Implement the `fully_conn` function to apply a fully connected layer to `x_tensor` with the shape (*Batch Size*, *num_outputs*). Shortcut option: you can use classes from the [TensorFlow Layers](https://www.tensorflow.org/api_docs/python/tf/layers) or [TensorFlow Layers (contrib)](https://www.tensorflow.org/api_guides/python/contrib.layers) packages for this layer. For more of a challenge, only use other TensorFlow packages."
   ]
  },
  {
   "cell_type": "code",
   "execution_count": 10,
   "metadata": {
    "collapsed": false,
    "deletable": true,
    "editable": true
   },
   "outputs": [
    {
     "name": "stdout",
     "output_type": "stream",
     "text": [
      "Tests Passed\n"
     ]
    }
   ],
   "source": [
    "def fully_conn(x_tensor, num_outputs):\n",
    "    \"\"\"\n",
    "    Apply a fully connected layer to x_tensor using weight and bias\n",
    "    : x_tensor: A 2-D tensor where the first dimension is batch size.\n",
    "    : num_outputs: The number of output that the new tensor should be.\n",
    "    : return: A 2-D tensor where the second dimension is num_outputs.\n",
    "    \"\"\"\n",
    "    # TODO: Implement Function\n",
    "    return tf.contrib.layers.fully_connected(x_tensor, num_outputs=num_outputs, activation_fn=tf.nn.relu)\n",
    "\n",
    "\n",
    "\"\"\"\n",
    "DON'T MODIFY ANYTHING IN THIS CELL THAT IS BELOW THIS LINE\n",
    "\"\"\"\n",
    "tests.test_fully_conn(fully_conn)"
   ]
  },
  {
   "cell_type": "markdown",
   "metadata": {
    "deletable": true,
    "editable": true
   },
   "source": [
    "### Output Layer\n",
    "Implement the `output` function to apply a fully connected layer to `x_tensor` with the shape (*Batch Size*, *num_outputs*). Shortcut option: you can use classes from the [TensorFlow Layers](https://www.tensorflow.org/api_docs/python/tf/layers) or [TensorFlow Layers (contrib)](https://www.tensorflow.org/api_guides/python/contrib.layers) packages for this layer. For more of a challenge, only use other TensorFlow packages.\n",
    "\n",
    "**Note:** Activation, softmax, or cross entropy should **not** be applied to this."
   ]
  },
  {
   "cell_type": "code",
   "execution_count": 11,
   "metadata": {
    "collapsed": false,
    "deletable": true,
    "editable": true
   },
   "outputs": [
    {
     "name": "stdout",
     "output_type": "stream",
     "text": [
      "Tests Passed\n"
     ]
    }
   ],
   "source": [
    "def output(x_tensor, num_outputs):\n",
    "    \"\"\"\n",
    "    Apply a output layer to x_tensor using weight and bias\n",
    "    : x_tensor: A 2-D tensor where the first dimension is batch size.\n",
    "    : num_outputs: The number of output that the new tensor should be.\n",
    "    : return: A 2-D tensor where the second dimension is num_outputs.\n",
    "    \"\"\"\n",
    "    # TODO: Implement Function\n",
    "    return tf.contrib.layers.fully_connected(x_tensor, num_outputs=num_outputs, activation_fn=None)\n",
    "\n",
    "\n",
    "\"\"\"\n",
    "DON'T MODIFY ANYTHING IN THIS CELL THAT IS BELOW THIS LINE\n",
    "\"\"\"\n",
    "tests.test_output(output)"
   ]
  },
  {
   "cell_type": "markdown",
   "metadata": {
    "deletable": true,
    "editable": true
   },
   "source": [
    "### Create Convolutional Model\n",
    "Implement the function `conv_net` to create a convolutional neural network model. The function takes in a batch of images, `x`, and outputs logits.  Use the layers you created above to create this model:\n",
    "\n",
    "* Apply 1, 2, or 3 Convolution and Max Pool layers\n",
    "* Apply a Flatten Layer\n",
    "* Apply 1, 2, or 3 Fully Connected Layers\n",
    "* Apply an Output Layer\n",
    "* Return the output\n",
    "* Apply [TensorFlow's Dropout](https://www.tensorflow.org/api_docs/python/tf/nn/dropout) to one or more layers in the model using `keep_prob`. "
   ]
  },
  {
   "cell_type": "code",
   "execution_count": 35,
   "metadata": {
    "collapsed": false,
    "deletable": true,
    "editable": true
   },
   "outputs": [
    {
     "name": "stdout",
     "output_type": "stream",
     "text": [
      "Neural Network Built!\n"
     ]
    }
   ],
   "source": [
    "def conv_net(x, keep_prob):\n",
    "    \"\"\"\n",
    "    Create a convolutional neural network model\n",
    "    : x: Placeholder tensor that holds image data.\n",
    "    : keep_prob: Placeholder tensor that hold dropout keep probability.\n",
    "    : return: Tensor that represents logits\n",
    "    \"\"\"\n",
    "    # TODO: Apply 1, 2, or 3 Convolution and Max Pool layers\n",
    "    #    Play around with different number of outputs, kernel size and stride\n",
    "    # Function Definition from Above:\n",
    "    #    conv2d_maxpool(x_tensor, conv_num_outputs, conv_ksize, conv_strides, pool_ksize, pool_strides)\n",
    "    #conv_layer = tf.nn.conv2d(input, weight, strides=[1, 2, 2, 1], padding='SAME')\n",
    "    conv_size = (3,3)\n",
    "    conv_strides = (2,2)\n",
    "    pool_size = (2,2)\n",
    "    pool_strides = (2,2)\n",
    "\n",
    "    #conv_layer = conv2d_maxpool(x, 10, [2, 2], [2, 2], [2, 2], [2, 2])\n",
    "    conv_layer = conv2d_maxpool(x, 12, conv_size, conv_strides, pool_size, pool_strides)\n",
    "    conv_layer = conv2d_maxpool(x, 24, conv_size, conv_strides, pool_size, pool_strides)\n",
    "    conv_layer = conv2d_maxpool(x, 24, conv_size, conv_strides, pool_size, pool_strides)\n",
    "\n",
    "    #conv_layer = conv2d_maxpool(conv_layer, 32, conv_size, conv_strides, pool_size, pool_strides)\n",
    "\n",
    "    #conv3 = conv2d_maxpool(conv2, 64, conv_size, conv_strides, pool_size, pool_strides)\n",
    "\n",
    "    # TODO: Apply a Flatten Layer\n",
    "    # Function Definition from Above:\n",
    "    #   flatten(x_tensor)\n",
    "    conv_layer = flatten(conv_layer)\n",
    "\n",
    "    # TODO: Apply 1, 2, or 3 Fully Connected Layers\n",
    "    #    Play around with different number of outputs\n",
    "    # Function Definition from Above:\n",
    "    #   fully_conn(x_tensor, num_outputs)\n",
    "    conv_layer = fully_conn(conv_layer, 24)\n",
    "    conv_layer = fully_conn(conv_layer, 48)\n",
    "    conv_layer = tf.nn.dropout(conv_layer, keep_prob)\n",
    "    conv_layer = fully_conn(conv_layer, 48)\n",
    "    \n",
    "    # TODO: Apply an Output Layer\n",
    "    #    Set this to the number of classes\n",
    "    # Function Definition from Above:\n",
    "    #   output(x_tensor, num_outputs)\n",
    "    \n",
    "    \n",
    "    # TODO: return output\n",
    "    return output(conv_layer, 10)\n",
    "\n",
    "\n",
    "\"\"\"\n",
    "DON'T MODIFY ANYTHING IN THIS CELL THAT IS BELOW THIS LINE\n",
    "\"\"\"\n",
    "\n",
    "##############################\n",
    "## Build the Neural Network ##\n",
    "##############################\n",
    "\n",
    "# Remove previous weights, bias, inputs, etc..\n",
    "tf.reset_default_graph()\n",
    "\n",
    "# Inputs\n",
    "x = neural_net_image_input((32, 32, 3))\n",
    "y = neural_net_label_input(10)\n",
    "keep_prob = neural_net_keep_prob_input()\n",
    "\n",
    "# Model\n",
    "logits = conv_net(x, keep_prob)\n",
    "\n",
    "# Name logits Tensor, so that is can be loaded from disk after training\n",
    "logits = tf.identity(logits, name='logits')\n",
    "\n",
    "# Loss and Optimizer\n",
    "cost = tf.reduce_mean(tf.nn.softmax_cross_entropy_with_logits(logits=logits, labels=y))\n",
    "optimizer = tf.train.AdamOptimizer().minimize(cost)\n",
    "\n",
    "# Accuracy\n",
    "correct_pred = tf.equal(tf.argmax(logits, 1), tf.argmax(y, 1))\n",
    "accuracy = tf.reduce_mean(tf.cast(correct_pred, tf.float32), name='accuracy')\n",
    "\n",
    "tests.test_conv_net(conv_net)"
   ]
  },
  {
   "cell_type": "markdown",
   "metadata": {
    "deletable": true,
    "editable": true
   },
   "source": [
    "## Train the Neural Network\n",
    "### Single Optimization\n",
    "Implement the function `train_neural_network` to do a single optimization.  The optimization should use `optimizer` to optimize in `session` with a `feed_dict` of the following:\n",
    "* `x` for image input\n",
    "* `y` for labels\n",
    "* `keep_prob` for keep probability for dropout\n",
    "\n",
    "This function will be called for each batch, so `tf.global_variables_initializer()` has already been called.\n",
    "\n",
    "Note: Nothing needs to be returned. This function is only optimizing the neural network."
   ]
  },
  {
   "cell_type": "code",
   "execution_count": 31,
   "metadata": {
    "collapsed": false,
    "deletable": true,
    "editable": true
   },
   "outputs": [
    {
     "name": "stdout",
     "output_type": "stream",
     "text": [
      "Tests Passed\n"
     ]
    }
   ],
   "source": [
    "def train_neural_network(session, optimizer, keep_probability, feature_batch, label_batch):\n",
    "    \"\"\"\n",
    "    Optimize the session on a batch of images and labels\n",
    "    : session: Current TensorFlow session\n",
    "    : optimizer: TensorFlow optimizer function\n",
    "    : keep_probability: keep probability\n",
    "    : feature_batch: Batch of Numpy image data\n",
    "    : label_batch: Batch of Numpy label data\n",
    "    \"\"\"\n",
    "    # TODO: Implement Function\n",
    "    session.run(optimizer, feed_dict={x:feature_batch, y:label_batch, keep_prob:keep_probability})\n",
    "\n",
    "\n",
    "\"\"\"\n",
    "DON'T MODIFY ANYTHING IN THIS CELL THAT IS BELOW THIS LINE\n",
    "\"\"\"\n",
    "tests.test_train_nn(train_neural_network)"
   ]
  },
  {
   "cell_type": "markdown",
   "metadata": {
    "deletable": true,
    "editable": true
   },
   "source": [
    "### Show Stats\n",
    "Implement the function `print_stats` to print loss and validation accuracy.  Use the global variables `valid_features` and `valid_labels` to calculate validation accuracy.  Use a keep probability of `1.0` to calculate the loss and validation accuracy."
   ]
  },
  {
   "cell_type": "code",
   "execution_count": 14,
   "metadata": {
    "collapsed": true,
    "deletable": true,
    "editable": true
   },
   "outputs": [],
   "source": [
    "def print_stats(session, feature_batch, label_batch, cost, accuracy):\n",
    "    \"\"\"\n",
    "    Print information about loss and validation accuracy\n",
    "    : session: Current TensorFlow session\n",
    "    : feature_batch: Batch of Numpy image data\n",
    "    : label_batch: Batch of Numpy label data\n",
    "    : cost: TensorFlow cost function\n",
    "    : accuracy: TensorFlow accuracy function\n",
    "    \"\"\"\n",
    "    # TODO: Implement Function\n",
    "    loss = session.run(cost, feed_dict={x:feature_batch, y:label_batch, keep_prob:1.0})\n",
    "\n",
    "    valid_acc = session.run(accuracy, feed_dict={x:valid_features, y:valid_labels, keep_prob:1.0})\n",
    "\n",
    "    print('Loss: {:>10.4f} Validation Accuracy: {:.6f}'.format(loss, valid_acc))"
   ]
  },
  {
   "cell_type": "markdown",
   "metadata": {
    "deletable": true,
    "editable": true
   },
   "source": [
    "### Hyperparameters\n",
    "Tune the following parameters:\n",
    "* Set `epochs` to the number of iterations until the network stops learning or start overfitting\n",
    "* Set `batch_size` to the highest number that your machine has memory for.  Most people set them to common sizes of memory:\n",
    " * 64\n",
    " * 128\n",
    " * 256\n",
    " * ...\n",
    "* Set `keep_probability` to the probability of keeping a node using dropout"
   ]
  },
  {
   "cell_type": "code",
   "execution_count": 38,
   "metadata": {
    "collapsed": true,
    "deletable": true,
    "editable": true
   },
   "outputs": [],
   "source": [
    "# TODO: Tune Parameters\n",
    "epochs = 50\n",
    "batch_size = 1024\n",
    "keep_probability = .9"
   ]
  },
  {
   "cell_type": "markdown",
   "metadata": {
    "deletable": true,
    "editable": true
   },
   "source": [
    "### Train on a Single CIFAR-10 Batch\n",
    "Instead of training the neural network on all the CIFAR-10 batches of data, let's use a single batch. This should save time while you iterate on the model to get a better accuracy.  Once the final validation accuracy is 50% or greater, run the model on all the data in the next section."
   ]
  },
  {
   "cell_type": "code",
   "execution_count": 39,
   "metadata": {
    "collapsed": false,
    "deletable": true,
    "editable": true
   },
   "outputs": [
    {
     "name": "stdout",
     "output_type": "stream",
     "text": [
      "Checking the Training on a Single Batch...\n",
      "Epoch  1, CIFAR-10 Batch 1:  Loss:     2.3029 Validation Accuracy: 0.113800\n",
      "Epoch  2, CIFAR-10 Batch 1:  Loss:     2.2859 Validation Accuracy: 0.172000\n",
      "Epoch  3, CIFAR-10 Batch 1:  Loss:     2.2231 Validation Accuracy: 0.181400\n",
      "Epoch  4, CIFAR-10 Batch 1:  Loss:     2.1381 Validation Accuracy: 0.207000\n",
      "Epoch  5, CIFAR-10 Batch 1:  Loss:     2.0583 Validation Accuracy: 0.231200\n",
      "Epoch  6, CIFAR-10 Batch 1:  Loss:     2.0020 Validation Accuracy: 0.249200\n",
      "Epoch  7, CIFAR-10 Batch 1:  Loss:     1.9474 Validation Accuracy: 0.266400\n",
      "Epoch  8, CIFAR-10 Batch 1:  Loss:     1.8708 Validation Accuracy: 0.299000\n",
      "Epoch  9, CIFAR-10 Batch 1:  Loss:     1.8016 Validation Accuracy: 0.316400\n",
      "Epoch 10, CIFAR-10 Batch 1:  Loss:     1.7386 Validation Accuracy: 0.340800\n",
      "Epoch 11, CIFAR-10 Batch 1:  Loss:     1.6861 Validation Accuracy: 0.354600\n",
      "Epoch 12, CIFAR-10 Batch 1:  Loss:     1.6437 Validation Accuracy: 0.368200\n",
      "Epoch 13, CIFAR-10 Batch 1:  Loss:     1.6143 Validation Accuracy: 0.372600\n",
      "Epoch 14, CIFAR-10 Batch 1:  Loss:     1.5718 Validation Accuracy: 0.384800\n",
      "Epoch 15, CIFAR-10 Batch 1:  Loss:     1.5429 Validation Accuracy: 0.395600\n",
      "Epoch 16, CIFAR-10 Batch 1:  Loss:     1.5188 Validation Accuracy: 0.402400\n",
      "Epoch 17, CIFAR-10 Batch 1:  Loss:     1.4952 Validation Accuracy: 0.412400\n",
      "Epoch 18, CIFAR-10 Batch 1:  Loss:     1.4693 Validation Accuracy: 0.415200\n",
      "Epoch 19, CIFAR-10 Batch 1:  Loss:     1.4538 Validation Accuracy: 0.424000\n",
      "Epoch 20, CIFAR-10 Batch 1:  Loss:     1.4402 Validation Accuracy: 0.428800\n",
      "Epoch 21, CIFAR-10 Batch 1:  Loss:     1.4235 Validation Accuracy: 0.434600\n",
      "Epoch 22, CIFAR-10 Batch 1:  Loss:     1.4045 Validation Accuracy: 0.439600\n",
      "Epoch 23, CIFAR-10 Batch 1:  Loss:     1.3855 Validation Accuracy: 0.446600\n",
      "Epoch 24, CIFAR-10 Batch 1:  Loss:     1.3677 Validation Accuracy: 0.447200\n",
      "Epoch 25, CIFAR-10 Batch 1:  Loss:     1.3534 Validation Accuracy: 0.453400\n",
      "Epoch 26, CIFAR-10 Batch 1:  Loss:     1.3420 Validation Accuracy: 0.459200\n",
      "Epoch 27, CIFAR-10 Batch 1:  Loss:     1.3198 Validation Accuracy: 0.464600\n",
      "Epoch 28, CIFAR-10 Batch 1:  Loss:     1.3027 Validation Accuracy: 0.463600\n",
      "Epoch 29, CIFAR-10 Batch 1:  Loss:     1.2891 Validation Accuracy: 0.466000\n",
      "Epoch 30, CIFAR-10 Batch 1:  Loss:     1.2660 Validation Accuracy: 0.474800\n",
      "Epoch 31, CIFAR-10 Batch 1:  Loss:     1.2612 Validation Accuracy: 0.481000\n",
      "Epoch 32, CIFAR-10 Batch 1:  Loss:     1.2449 Validation Accuracy: 0.485800\n",
      "Epoch 33, CIFAR-10 Batch 1:  Loss:     1.2259 Validation Accuracy: 0.484600\n",
      "Epoch 34, CIFAR-10 Batch 1:  Loss:     1.2206 Validation Accuracy: 0.487200\n",
      "Epoch 35, CIFAR-10 Batch 1:  Loss:     1.2054 Validation Accuracy: 0.487800\n",
      "Epoch 36, CIFAR-10 Batch 1:  Loss:     1.1908 Validation Accuracy: 0.487400\n",
      "Epoch 37, CIFAR-10 Batch 1:  Loss:     1.1815 Validation Accuracy: 0.488600\n",
      "Epoch 38, CIFAR-10 Batch 1:  Loss:     1.1735 Validation Accuracy: 0.487600\n",
      "Epoch 39, CIFAR-10 Batch 1:  Loss:     1.1631 Validation Accuracy: 0.492600\n",
      "Epoch 40, CIFAR-10 Batch 1:  Loss:     1.1556 Validation Accuracy: 0.497200\n",
      "Epoch 41, CIFAR-10 Batch 1:  Loss:     1.1432 Validation Accuracy: 0.497800\n",
      "Epoch 42, CIFAR-10 Batch 1:  Loss:     1.1291 Validation Accuracy: 0.502000\n",
      "Epoch 43, CIFAR-10 Batch 1:  Loss:     1.1153 Validation Accuracy: 0.501600\n",
      "Epoch 44, CIFAR-10 Batch 1:  Loss:     1.1060 Validation Accuracy: 0.504400\n",
      "Epoch 45, CIFAR-10 Batch 1:  Loss:     1.0989 Validation Accuracy: 0.501600\n",
      "Epoch 46, CIFAR-10 Batch 1:  Loss:     1.0895 Validation Accuracy: 0.503200\n",
      "Epoch 47, CIFAR-10 Batch 1:  Loss:     1.0842 Validation Accuracy: 0.499600\n",
      "Epoch 48, CIFAR-10 Batch 1:  Loss:     1.0783 Validation Accuracy: 0.500000\n",
      "Epoch 49, CIFAR-10 Batch 1:  Loss:     1.0703 Validation Accuracy: 0.501800\n",
      "Epoch 50, CIFAR-10 Batch 1:  Loss:     1.0653 Validation Accuracy: 0.501800\n"
     ]
    }
   ],
   "source": [
    "\"\"\"\n",
    "DON'T MODIFY ANYTHING IN THIS CELL\n",
    "\"\"\"\n",
    "print('Checking the Training on a Single Batch...')\n",
    "with tf.Session() as sess:\n",
    "    # Initializing the variables\n",
    "    sess.run(tf.global_variables_initializer())\n",
    "    \n",
    "    # Training cycle\n",
    "    for epoch in range(epochs):\n",
    "        batch_i = 1\n",
    "        for batch_features, batch_labels in helper.load_preprocess_training_batch(batch_i, batch_size):\n",
    "            train_neural_network(sess, optimizer, keep_probability, batch_features, batch_labels)\n",
    "        print('Epoch {:>2}, CIFAR-10 Batch {}:  '.format(epoch + 1, batch_i), end='')\n",
    "        print_stats(sess, batch_features, batch_labels, cost, accuracy)"
   ]
  },
  {
   "cell_type": "markdown",
   "metadata": {
    "deletable": true,
    "editable": true
   },
   "source": [
    "### Fully Train the Model\n",
    "Now that you got a good accuracy with a single CIFAR-10 batch, try it with all five batches."
   ]
  },
  {
   "cell_type": "code",
   "execution_count": 40,
   "metadata": {
    "collapsed": false,
    "deletable": true,
    "editable": true
   },
   "outputs": [
    {
     "name": "stdout",
     "output_type": "stream",
     "text": [
      "Training...\n",
      "Epoch  1, CIFAR-10 Batch 1:  Loss:     2.2976 Validation Accuracy: 0.143800\n",
      "Epoch  1, CIFAR-10 Batch 2:  Loss:     2.2191 Validation Accuracy: 0.183800\n",
      "Epoch  1, CIFAR-10 Batch 3:  Loss:     2.1560 Validation Accuracy: 0.208200\n",
      "Epoch  1, CIFAR-10 Batch 4:  Loss:     2.0272 Validation Accuracy: 0.229000\n",
      "Epoch  1, CIFAR-10 Batch 5:  Loss:     1.9771 Validation Accuracy: 0.249000\n",
      "Epoch  2, CIFAR-10 Batch 1:  Loss:     1.9820 Validation Accuracy: 0.301600\n",
      "Epoch  2, CIFAR-10 Batch 2:  Loss:     1.8177 Validation Accuracy: 0.326600\n",
      "Epoch  2, CIFAR-10 Batch 3:  Loss:     1.7399 Validation Accuracy: 0.344800\n",
      "Epoch  2, CIFAR-10 Batch 4:  Loss:     1.7225 Validation Accuracy: 0.349200\n",
      "Epoch  2, CIFAR-10 Batch 5:  Loss:     1.7603 Validation Accuracy: 0.353600\n",
      "Epoch  3, CIFAR-10 Batch 1:  Loss:     1.7245 Validation Accuracy: 0.369600\n",
      "Epoch  3, CIFAR-10 Batch 2:  Loss:     1.6753 Validation Accuracy: 0.370600\n",
      "Epoch  3, CIFAR-10 Batch 3:  Loss:     1.6132 Validation Accuracy: 0.382000\n",
      "Epoch  3, CIFAR-10 Batch 4:  Loss:     1.6030 Validation Accuracy: 0.386400\n",
      "Epoch  3, CIFAR-10 Batch 5:  Loss:     1.6586 Validation Accuracy: 0.396400\n",
      "Epoch  4, CIFAR-10 Batch 1:  Loss:     1.6358 Validation Accuracy: 0.399000\n",
      "Epoch  4, CIFAR-10 Batch 2:  Loss:     1.6026 Validation Accuracy: 0.401600\n",
      "Epoch  4, CIFAR-10 Batch 3:  Loss:     1.5359 Validation Accuracy: 0.408200\n",
      "Epoch  4, CIFAR-10 Batch 4:  Loss:     1.5380 Validation Accuracy: 0.406600\n",
      "Epoch  4, CIFAR-10 Batch 5:  Loss:     1.5940 Validation Accuracy: 0.415000\n",
      "Epoch  5, CIFAR-10 Batch 1:  Loss:     1.5834 Validation Accuracy: 0.408600\n",
      "Epoch  5, CIFAR-10 Batch 2:  Loss:     1.5443 Validation Accuracy: 0.423200\n",
      "Epoch  5, CIFAR-10 Batch 3:  Loss:     1.4839 Validation Accuracy: 0.423000\n",
      "Epoch  5, CIFAR-10 Batch 4:  Loss:     1.4866 Validation Accuracy: 0.424000\n",
      "Epoch  5, CIFAR-10 Batch 5:  Loss:     1.5431 Validation Accuracy: 0.433600\n",
      "Epoch  6, CIFAR-10 Batch 1:  Loss:     1.5271 Validation Accuracy: 0.430000\n",
      "Epoch  6, CIFAR-10 Batch 2:  Loss:     1.4987 Validation Accuracy: 0.438400\n",
      "Epoch  6, CIFAR-10 Batch 3:  Loss:     1.4355 Validation Accuracy: 0.438000\n",
      "Epoch  6, CIFAR-10 Batch 4:  Loss:     1.4334 Validation Accuracy: 0.442400\n",
      "Epoch  6, CIFAR-10 Batch 5:  Loss:     1.4945 Validation Accuracy: 0.450800\n",
      "Epoch  7, CIFAR-10 Batch 1:  Loss:     1.4949 Validation Accuracy: 0.445200\n",
      "Epoch  7, CIFAR-10 Batch 2:  Loss:     1.4792 Validation Accuracy: 0.443000\n",
      "Epoch  7, CIFAR-10 Batch 3:  Loss:     1.3936 Validation Accuracy: 0.446600\n",
      "Epoch  7, CIFAR-10 Batch 4:  Loss:     1.4005 Validation Accuracy: 0.448800\n",
      "Epoch  7, CIFAR-10 Batch 5:  Loss:     1.4699 Validation Accuracy: 0.456400\n",
      "Epoch  8, CIFAR-10 Batch 1:  Loss:     1.4658 Validation Accuracy: 0.454000\n",
      "Epoch  8, CIFAR-10 Batch 2:  Loss:     1.4423 Validation Accuracy: 0.459200\n",
      "Epoch  8, CIFAR-10 Batch 3:  Loss:     1.3644 Validation Accuracy: 0.459400\n",
      "Epoch  8, CIFAR-10 Batch 4:  Loss:     1.3781 Validation Accuracy: 0.459800\n",
      "Epoch  8, CIFAR-10 Batch 5:  Loss:     1.4358 Validation Accuracy: 0.468200\n",
      "Epoch  9, CIFAR-10 Batch 1:  Loss:     1.4402 Validation Accuracy: 0.464000\n",
      "Epoch  9, CIFAR-10 Batch 2:  Loss:     1.4120 Validation Accuracy: 0.467400\n",
      "Epoch  9, CIFAR-10 Batch 3:  Loss:     1.3303 Validation Accuracy: 0.467200\n",
      "Epoch  9, CIFAR-10 Batch 4:  Loss:     1.3493 Validation Accuracy: 0.470000\n",
      "Epoch  9, CIFAR-10 Batch 5:  Loss:     1.4092 Validation Accuracy: 0.475000\n",
      "Epoch 10, CIFAR-10 Batch 1:  Loss:     1.4181 Validation Accuracy: 0.473600\n",
      "Epoch 10, CIFAR-10 Batch 2:  Loss:     1.3991 Validation Accuracy: 0.470400\n",
      "Epoch 10, CIFAR-10 Batch 3:  Loss:     1.3124 Validation Accuracy: 0.469600\n",
      "Epoch 10, CIFAR-10 Batch 4:  Loss:     1.3382 Validation Accuracy: 0.468000\n",
      "Epoch 10, CIFAR-10 Batch 5:  Loss:     1.3934 Validation Accuracy: 0.479400\n",
      "Epoch 11, CIFAR-10 Batch 1:  Loss:     1.4035 Validation Accuracy: 0.473800\n",
      "Epoch 11, CIFAR-10 Batch 2:  Loss:     1.3784 Validation Accuracy: 0.477800\n",
      "Epoch 11, CIFAR-10 Batch 3:  Loss:     1.2878 Validation Accuracy: 0.479000\n",
      "Epoch 11, CIFAR-10 Batch 4:  Loss:     1.3147 Validation Accuracy: 0.477800\n",
      "Epoch 11, CIFAR-10 Batch 5:  Loss:     1.3760 Validation Accuracy: 0.484000\n",
      "Epoch 12, CIFAR-10 Batch 1:  Loss:     1.3875 Validation Accuracy: 0.484200\n",
      "Epoch 12, CIFAR-10 Batch 2:  Loss:     1.3689 Validation Accuracy: 0.481200\n",
      "Epoch 12, CIFAR-10 Batch 3:  Loss:     1.2726 Validation Accuracy: 0.485800\n",
      "Epoch 12, CIFAR-10 Batch 4:  Loss:     1.2985 Validation Accuracy: 0.486400\n",
      "Epoch 12, CIFAR-10 Batch 5:  Loss:     1.3561 Validation Accuracy: 0.490000\n",
      "Epoch 13, CIFAR-10 Batch 1:  Loss:     1.3655 Validation Accuracy: 0.487000\n",
      "Epoch 13, CIFAR-10 Batch 2:  Loss:     1.3419 Validation Accuracy: 0.490200\n",
      "Epoch 13, CIFAR-10 Batch 3:  Loss:     1.2595 Validation Accuracy: 0.491000\n",
      "Epoch 13, CIFAR-10 Batch 4:  Loss:     1.2904 Validation Accuracy: 0.487000\n",
      "Epoch 13, CIFAR-10 Batch 5:  Loss:     1.3483 Validation Accuracy: 0.490800\n",
      "Epoch 14, CIFAR-10 Batch 1:  Loss:     1.3659 Validation Accuracy: 0.488800\n",
      "Epoch 14, CIFAR-10 Batch 2:  Loss:     1.3317 Validation Accuracy: 0.489800\n",
      "Epoch 14, CIFAR-10 Batch 3:  Loss:     1.2469 Validation Accuracy: 0.494200\n",
      "Epoch 14, CIFAR-10 Batch 4:  Loss:     1.2753 Validation Accuracy: 0.491800\n",
      "Epoch 14, CIFAR-10 Batch 5:  Loss:     1.3285 Validation Accuracy: 0.497000\n",
      "Epoch 15, CIFAR-10 Batch 1:  Loss:     1.3446 Validation Accuracy: 0.495400\n",
      "Epoch 15, CIFAR-10 Batch 2:  Loss:     1.3144 Validation Accuracy: 0.492800\n",
      "Epoch 15, CIFAR-10 Batch 3:  Loss:     1.2333 Validation Accuracy: 0.496400\n",
      "Epoch 15, CIFAR-10 Batch 4:  Loss:     1.2665 Validation Accuracy: 0.495400\n",
      "Epoch 15, CIFAR-10 Batch 5:  Loss:     1.3184 Validation Accuracy: 0.500600\n",
      "Epoch 16, CIFAR-10 Batch 1:  Loss:     1.3340 Validation Accuracy: 0.500600\n",
      "Epoch 16, CIFAR-10 Batch 2:  Loss:     1.3034 Validation Accuracy: 0.496000\n",
      "Epoch 16, CIFAR-10 Batch 3:  Loss:     1.2266 Validation Accuracy: 0.500200\n",
      "Epoch 16, CIFAR-10 Batch 4:  Loss:     1.2549 Validation Accuracy: 0.498000\n",
      "Epoch 16, CIFAR-10 Batch 5:  Loss:     1.3003 Validation Accuracy: 0.502600\n",
      "Epoch 17, CIFAR-10 Batch 1:  Loss:     1.3205 Validation Accuracy: 0.501200\n",
      "Epoch 17, CIFAR-10 Batch 2:  Loss:     1.2904 Validation Accuracy: 0.498000\n",
      "Epoch 17, CIFAR-10 Batch 3:  Loss:     1.2167 Validation Accuracy: 0.506800\n",
      "Epoch 17, CIFAR-10 Batch 4:  Loss:     1.2470 Validation Accuracy: 0.499400\n",
      "Epoch 17, CIFAR-10 Batch 5:  Loss:     1.2925 Validation Accuracy: 0.503000\n",
      "Epoch 18, CIFAR-10 Batch 1:  Loss:     1.3096 Validation Accuracy: 0.503400\n",
      "Epoch 18, CIFAR-10 Batch 2:  Loss:     1.2854 Validation Accuracy: 0.495200\n",
      "Epoch 18, CIFAR-10 Batch 3:  Loss:     1.2110 Validation Accuracy: 0.503800\n",
      "Epoch 18, CIFAR-10 Batch 4:  Loss:     1.2395 Validation Accuracy: 0.499200\n",
      "Epoch 18, CIFAR-10 Batch 5:  Loss:     1.2822 Validation Accuracy: 0.507000\n",
      "Epoch 19, CIFAR-10 Batch 1:  Loss:     1.3018 Validation Accuracy: 0.505000\n",
      "Epoch 19, CIFAR-10 Batch 2:  Loss:     1.2743 Validation Accuracy: 0.501200\n",
      "Epoch 19, CIFAR-10 Batch 3:  Loss:     1.2110 Validation Accuracy: 0.502400\n",
      "Epoch 19, CIFAR-10 Batch 4:  Loss:     1.2315 Validation Accuracy: 0.505000\n",
      "Epoch 19, CIFAR-10 Batch 5:  Loss:     1.2780 Validation Accuracy: 0.505200\n",
      "Epoch 20, CIFAR-10 Batch 1:  Loss:     1.2978 Validation Accuracy: 0.507200\n",
      "Epoch 20, CIFAR-10 Batch 2:  Loss:     1.2673 Validation Accuracy: 0.503400\n",
      "Epoch 20, CIFAR-10 Batch 3:  Loss:     1.2004 Validation Accuracy: 0.509800\n",
      "Epoch 20, CIFAR-10 Batch 4:  Loss:     1.2236 Validation Accuracy: 0.508200\n",
      "Epoch 20, CIFAR-10 Batch 5:  Loss:     1.2642 Validation Accuracy: 0.511800\n",
      "Epoch 21, CIFAR-10 Batch 1:  Loss:     1.2932 Validation Accuracy: 0.506600\n",
      "Epoch 21, CIFAR-10 Batch 2:  Loss:     1.2646 Validation Accuracy: 0.501600\n",
      "Epoch 21, CIFAR-10 Batch 3:  Loss:     1.1943 Validation Accuracy: 0.507200\n",
      "Epoch 21, CIFAR-10 Batch 4:  Loss:     1.2124 Validation Accuracy: 0.512200\n",
      "Epoch 21, CIFAR-10 Batch 5:  Loss:     1.2590 Validation Accuracy: 0.508000\n",
      "Epoch 22, CIFAR-10 Batch 1:  Loss:     1.2909 Validation Accuracy: 0.513000\n",
      "Epoch 22, CIFAR-10 Batch 2:  Loss:     1.2541 Validation Accuracy: 0.504400\n",
      "Epoch 22, CIFAR-10 Batch 3:  Loss:     1.1784 Validation Accuracy: 0.518600\n",
      "Epoch 22, CIFAR-10 Batch 4:  Loss:     1.2085 Validation Accuracy: 0.510800\n",
      "Epoch 22, CIFAR-10 Batch 5:  Loss:     1.2546 Validation Accuracy: 0.505200\n",
      "Epoch 23, CIFAR-10 Batch 1:  Loss:     1.2872 Validation Accuracy: 0.509600\n",
      "Epoch 23, CIFAR-10 Batch 2:  Loss:     1.2426 Validation Accuracy: 0.507400\n",
      "Epoch 23, CIFAR-10 Batch 3:  Loss:     1.1697 Validation Accuracy: 0.516600\n",
      "Epoch 23, CIFAR-10 Batch 4:  Loss:     1.1996 Validation Accuracy: 0.514800\n",
      "Epoch 23, CIFAR-10 Batch 5:  Loss:     1.2431 Validation Accuracy: 0.512200\n",
      "Epoch 24, CIFAR-10 Batch 1:  Loss:     1.2783 Validation Accuracy: 0.512600\n",
      "Epoch 24, CIFAR-10 Batch 2:  Loss:     1.2356 Validation Accuracy: 0.506800\n",
      "Epoch 24, CIFAR-10 Batch 3:  Loss:     1.1677 Validation Accuracy: 0.518000\n",
      "Epoch 24, CIFAR-10 Batch 4:  Loss:     1.2005 Validation Accuracy: 0.515200\n",
      "Epoch 24, CIFAR-10 Batch 5:  Loss:     1.2421 Validation Accuracy: 0.511200\n",
      "Epoch 25, CIFAR-10 Batch 1:  Loss:     1.2719 Validation Accuracy: 0.514600\n",
      "Epoch 25, CIFAR-10 Batch 2:  Loss:     1.2243 Validation Accuracy: 0.511000\n",
      "Epoch 25, CIFAR-10 Batch 3:  Loss:     1.1706 Validation Accuracy: 0.514200\n",
      "Epoch 25, CIFAR-10 Batch 4:  Loss:     1.1995 Validation Accuracy: 0.516400\n",
      "Epoch 25, CIFAR-10 Batch 5:  Loss:     1.2278 Validation Accuracy: 0.514000\n",
      "Epoch 26, CIFAR-10 Batch 1:  Loss:     1.2600 Validation Accuracy: 0.521000\n",
      "Epoch 26, CIFAR-10 Batch 2:  Loss:     1.2152 Validation Accuracy: 0.509000\n",
      "Epoch 26, CIFAR-10 Batch 3:  Loss:     1.1705 Validation Accuracy: 0.515800\n",
      "Epoch 26, CIFAR-10 Batch 4:  Loss:     1.2031 Validation Accuracy: 0.512200\n",
      "Epoch 26, CIFAR-10 Batch 5:  Loss:     1.2217 Validation Accuracy: 0.517800\n",
      "Epoch 27, CIFAR-10 Batch 1:  Loss:     1.2544 Validation Accuracy: 0.522800\n",
      "Epoch 27, CIFAR-10 Batch 2:  Loss:     1.2025 Validation Accuracy: 0.512800\n",
      "Epoch 27, CIFAR-10 Batch 3:  Loss:     1.1661 Validation Accuracy: 0.519800\n",
      "Epoch 27, CIFAR-10 Batch 4:  Loss:     1.1846 Validation Accuracy: 0.515800\n",
      "Epoch 27, CIFAR-10 Batch 5:  Loss:     1.2099 Validation Accuracy: 0.521600\n",
      "Epoch 28, CIFAR-10 Batch 1:  Loss:     1.2512 Validation Accuracy: 0.522600\n",
      "Epoch 28, CIFAR-10 Batch 2:  Loss:     1.1951 Validation Accuracy: 0.509000\n",
      "Epoch 28, CIFAR-10 Batch 3:  Loss:     1.1691 Validation Accuracy: 0.518600\n",
      "Epoch 28, CIFAR-10 Batch 4:  Loss:     1.1755 Validation Accuracy: 0.521000\n",
      "Epoch 28, CIFAR-10 Batch 5:  Loss:     1.2051 Validation Accuracy: 0.519400\n",
      "Epoch 29, CIFAR-10 Batch 1:  Loss:     1.2495 Validation Accuracy: 0.524200\n",
      "Epoch 29, CIFAR-10 Batch 2:  Loss:     1.1929 Validation Accuracy: 0.510000\n",
      "Epoch 29, CIFAR-10 Batch 3:  Loss:     1.1566 Validation Accuracy: 0.523600\n",
      "Epoch 29, CIFAR-10 Batch 4:  Loss:     1.1852 Validation Accuracy: 0.518600\n",
      "Epoch 29, CIFAR-10 Batch 5:  Loss:     1.2083 Validation Accuracy: 0.520800\n",
      "Epoch 30, CIFAR-10 Batch 1:  Loss:     1.2415 Validation Accuracy: 0.525800\n",
      "Epoch 30, CIFAR-10 Batch 2:  Loss:     1.1877 Validation Accuracy: 0.510200\n",
      "Epoch 30, CIFAR-10 Batch 3:  Loss:     1.1573 Validation Accuracy: 0.522800\n",
      "Epoch 30, CIFAR-10 Batch 4:  Loss:     1.1845 Validation Accuracy: 0.522600\n",
      "Epoch 30, CIFAR-10 Batch 5:  Loss:     1.1989 Validation Accuracy: 0.524400\n",
      "Epoch 31, CIFAR-10 Batch 1:  Loss:     1.2364 Validation Accuracy: 0.527200\n",
      "Epoch 31, CIFAR-10 Batch 2:  Loss:     1.1748 Validation Accuracy: 0.513800\n",
      "Epoch 31, CIFAR-10 Batch 3:  Loss:     1.1446 Validation Accuracy: 0.527400\n",
      "Epoch 31, CIFAR-10 Batch 4:  Loss:     1.1822 Validation Accuracy: 0.524600\n",
      "Epoch 31, CIFAR-10 Batch 5:  Loss:     1.1918 Validation Accuracy: 0.522800\n",
      "Epoch 32, CIFAR-10 Batch 1:  Loss:     1.2323 Validation Accuracy: 0.528200\n",
      "Epoch 32, CIFAR-10 Batch 2:  Loss:     1.1647 Validation Accuracy: 0.518200\n",
      "Epoch 32, CIFAR-10 Batch 3:  Loss:     1.1447 Validation Accuracy: 0.528400\n",
      "Epoch 32, CIFAR-10 Batch 4:  Loss:     1.1652 Validation Accuracy: 0.526200\n",
      "Epoch 32, CIFAR-10 Batch 5:  Loss:     1.1869 Validation Accuracy: 0.529400\n",
      "Epoch 33, CIFAR-10 Batch 1:  Loss:     1.2316 Validation Accuracy: 0.528800\n",
      "Epoch 33, CIFAR-10 Batch 2:  Loss:     1.1569 Validation Accuracy: 0.521200\n",
      "Epoch 33, CIFAR-10 Batch 3:  Loss:     1.1308 Validation Accuracy: 0.532600\n",
      "Epoch 33, CIFAR-10 Batch 4:  Loss:     1.1553 Validation Accuracy: 0.528800\n",
      "Epoch 33, CIFAR-10 Batch 5:  Loss:     1.1795 Validation Accuracy: 0.527600\n",
      "Epoch 34, CIFAR-10 Batch 1:  Loss:     1.2291 Validation Accuracy: 0.529600\n",
      "Epoch 34, CIFAR-10 Batch 2:  Loss:     1.1495 Validation Accuracy: 0.523000\n",
      "Epoch 34, CIFAR-10 Batch 3:  Loss:     1.1297 Validation Accuracy: 0.528600\n",
      "Epoch 34, CIFAR-10 Batch 4:  Loss:     1.1553 Validation Accuracy: 0.529800\n",
      "Epoch 34, CIFAR-10 Batch 5:  Loss:     1.1818 Validation Accuracy: 0.525000\n",
      "Epoch 35, CIFAR-10 Batch 1:  Loss:     1.2244 Validation Accuracy: 0.531200\n",
      "Epoch 35, CIFAR-10 Batch 2:  Loss:     1.1474 Validation Accuracy: 0.525800\n",
      "Epoch 35, CIFAR-10 Batch 3:  Loss:     1.1212 Validation Accuracy: 0.534000\n",
      "Epoch 35, CIFAR-10 Batch 4:  Loss:     1.1468 Validation Accuracy: 0.528000\n",
      "Epoch 35, CIFAR-10 Batch 5:  Loss:     1.1708 Validation Accuracy: 0.527800\n",
      "Epoch 36, CIFAR-10 Batch 1:  Loss:     1.2208 Validation Accuracy: 0.534000\n",
      "Epoch 36, CIFAR-10 Batch 2:  Loss:     1.1418 Validation Accuracy: 0.527800\n",
      "Epoch 36, CIFAR-10 Batch 3:  Loss:     1.1162 Validation Accuracy: 0.533600\n",
      "Epoch 36, CIFAR-10 Batch 4:  Loss:     1.1389 Validation Accuracy: 0.532200\n",
      "Epoch 36, CIFAR-10 Batch 5:  Loss:     1.1650 Validation Accuracy: 0.528400\n",
      "Epoch 37, CIFAR-10 Batch 1:  Loss:     1.2156 Validation Accuracy: 0.534000\n",
      "Epoch 37, CIFAR-10 Batch 2:  Loss:     1.1331 Validation Accuracy: 0.527400\n",
      "Epoch 37, CIFAR-10 Batch 3:  Loss:     1.1124 Validation Accuracy: 0.535000\n",
      "Epoch 37, CIFAR-10 Batch 4:  Loss:     1.1320 Validation Accuracy: 0.533600\n",
      "Epoch 37, CIFAR-10 Batch 5:  Loss:     1.1603 Validation Accuracy: 0.528600\n",
      "Epoch 38, CIFAR-10 Batch 1:  Loss:     1.2147 Validation Accuracy: 0.533000\n",
      "Epoch 38, CIFAR-10 Batch 2:  Loss:     1.1281 Validation Accuracy: 0.530000\n",
      "Epoch 38, CIFAR-10 Batch 3:  Loss:     1.1092 Validation Accuracy: 0.535600\n",
      "Epoch 38, CIFAR-10 Batch 4:  Loss:     1.1274 Validation Accuracy: 0.535600\n",
      "Epoch 38, CIFAR-10 Batch 5:  Loss:     1.1586 Validation Accuracy: 0.532200\n",
      "Epoch 39, CIFAR-10 Batch 1:  Loss:     1.2175 Validation Accuracy: 0.533400\n",
      "Epoch 39, CIFAR-10 Batch 2:  Loss:     1.1298 Validation Accuracy: 0.530400\n",
      "Epoch 39, CIFAR-10 Batch 3:  Loss:     1.1076 Validation Accuracy: 0.538200\n",
      "Epoch 39, CIFAR-10 Batch 4:  Loss:     1.1240 Validation Accuracy: 0.540400\n",
      "Epoch 39, CIFAR-10 Batch 5:  Loss:     1.1519 Validation Accuracy: 0.531400\n",
      "Epoch 40, CIFAR-10 Batch 1:  Loss:     1.2138 Validation Accuracy: 0.530000\n",
      "Epoch 40, CIFAR-10 Batch 2:  Loss:     1.1211 Validation Accuracy: 0.533800\n",
      "Epoch 40, CIFAR-10 Batch 3:  Loss:     1.1009 Validation Accuracy: 0.537800\n",
      "Epoch 40, CIFAR-10 Batch 4:  Loss:     1.1215 Validation Accuracy: 0.540200\n",
      "Epoch 40, CIFAR-10 Batch 5:  Loss:     1.1462 Validation Accuracy: 0.533200\n",
      "Epoch 41, CIFAR-10 Batch 1:  Loss:     1.2080 Validation Accuracy: 0.530800\n",
      "Epoch 41, CIFAR-10 Batch 2:  Loss:     1.1179 Validation Accuracy: 0.534200\n",
      "Epoch 41, CIFAR-10 Batch 3:  Loss:     1.1008 Validation Accuracy: 0.538000\n",
      "Epoch 41, CIFAR-10 Batch 4:  Loss:     1.1125 Validation Accuracy: 0.539200\n",
      "Epoch 41, CIFAR-10 Batch 5:  Loss:     1.1389 Validation Accuracy: 0.537600\n",
      "Epoch 42, CIFAR-10 Batch 1:  Loss:     1.2087 Validation Accuracy: 0.532000\n",
      "Epoch 42, CIFAR-10 Batch 2:  Loss:     1.1126 Validation Accuracy: 0.534400\n",
      "Epoch 42, CIFAR-10 Batch 3:  Loss:     1.0972 Validation Accuracy: 0.538000\n",
      "Epoch 42, CIFAR-10 Batch 4:  Loss:     1.1116 Validation Accuracy: 0.536800\n",
      "Epoch 42, CIFAR-10 Batch 5:  Loss:     1.1387 Validation Accuracy: 0.534600\n",
      "Epoch 43, CIFAR-10 Batch 1:  Loss:     1.2089 Validation Accuracy: 0.534000\n",
      "Epoch 43, CIFAR-10 Batch 2:  Loss:     1.1105 Validation Accuracy: 0.532600\n",
      "Epoch 43, CIFAR-10 Batch 3:  Loss:     1.0933 Validation Accuracy: 0.539600\n",
      "Epoch 43, CIFAR-10 Batch 4:  Loss:     1.1090 Validation Accuracy: 0.537600\n",
      "Epoch 43, CIFAR-10 Batch 5:  Loss:     1.1363 Validation Accuracy: 0.532600\n",
      "Epoch 44, CIFAR-10 Batch 1:  Loss:     1.2107 Validation Accuracy: 0.530800\n",
      "Epoch 44, CIFAR-10 Batch 2:  Loss:     1.1111 Validation Accuracy: 0.536200\n",
      "Epoch 44, CIFAR-10 Batch 3:  Loss:     1.0895 Validation Accuracy: 0.540400\n",
      "Epoch 44, CIFAR-10 Batch 4:  Loss:     1.1047 Validation Accuracy: 0.538000\n",
      "Epoch 44, CIFAR-10 Batch 5:  Loss:     1.1296 Validation Accuracy: 0.534600\n",
      "Epoch 45, CIFAR-10 Batch 1:  Loss:     1.2052 Validation Accuracy: 0.533000\n",
      "Epoch 45, CIFAR-10 Batch 2:  Loss:     1.1059 Validation Accuracy: 0.535600\n",
      "Epoch 45, CIFAR-10 Batch 3:  Loss:     1.0864 Validation Accuracy: 0.539600\n",
      "Epoch 45, CIFAR-10 Batch 4:  Loss:     1.1057 Validation Accuracy: 0.536800\n",
      "Epoch 45, CIFAR-10 Batch 5:  Loss:     1.1232 Validation Accuracy: 0.536000\n",
      "Epoch 46, CIFAR-10 Batch 1:  Loss:     1.2000 Validation Accuracy: 0.535000\n",
      "Epoch 46, CIFAR-10 Batch 2:  Loss:     1.0986 Validation Accuracy: 0.537800\n",
      "Epoch 46, CIFAR-10 Batch 3:  Loss:     1.0829 Validation Accuracy: 0.540400\n",
      "Epoch 46, CIFAR-10 Batch 4:  Loss:     1.0994 Validation Accuracy: 0.539000\n",
      "Epoch 46, CIFAR-10 Batch 5:  Loss:     1.1140 Validation Accuracy: 0.536600\n",
      "Epoch 47, CIFAR-10 Batch 1:  Loss:     1.1942 Validation Accuracy: 0.536400\n",
      "Epoch 47, CIFAR-10 Batch 2:  Loss:     1.0973 Validation Accuracy: 0.537400\n",
      "Epoch 47, CIFAR-10 Batch 3:  Loss:     1.0829 Validation Accuracy: 0.539800\n",
      "Epoch 47, CIFAR-10 Batch 4:  Loss:     1.0911 Validation Accuracy: 0.540000\n",
      "Epoch 47, CIFAR-10 Batch 5:  Loss:     1.1079 Validation Accuracy: 0.541400\n",
      "Epoch 48, CIFAR-10 Batch 1:  Loss:     1.1943 Validation Accuracy: 0.535200\n",
      "Epoch 48, CIFAR-10 Batch 2:  Loss:     1.0996 Validation Accuracy: 0.536800\n",
      "Epoch 48, CIFAR-10 Batch 3:  Loss:     1.0784 Validation Accuracy: 0.544400\n",
      "Epoch 48, CIFAR-10 Batch 4:  Loss:     1.0882 Validation Accuracy: 0.543600\n",
      "Epoch 48, CIFAR-10 Batch 5:  Loss:     1.1039 Validation Accuracy: 0.543200\n",
      "Epoch 49, CIFAR-10 Batch 1:  Loss:     1.1860 Validation Accuracy: 0.538000\n",
      "Epoch 49, CIFAR-10 Batch 2:  Loss:     1.0910 Validation Accuracy: 0.538400\n",
      "Epoch 49, CIFAR-10 Batch 3:  Loss:     1.0819 Validation Accuracy: 0.539000\n",
      "Epoch 49, CIFAR-10 Batch 4:  Loss:     1.0870 Validation Accuracy: 0.546000\n",
      "Epoch 49, CIFAR-10 Batch 5:  Loss:     1.1075 Validation Accuracy: 0.540200\n",
      "Epoch 50, CIFAR-10 Batch 1:  Loss:     1.1836 Validation Accuracy: 0.541400\n",
      "Epoch 50, CIFAR-10 Batch 2:  Loss:     1.0856 Validation Accuracy: 0.543800\n",
      "Epoch 50, CIFAR-10 Batch 3:  Loss:     1.0834 Validation Accuracy: 0.539800\n",
      "Epoch 50, CIFAR-10 Batch 4:  Loss:     1.0896 Validation Accuracy: 0.541200\n",
      "Epoch 50, CIFAR-10 Batch 5:  Loss:     1.0995 Validation Accuracy: 0.540400\n"
     ]
    }
   ],
   "source": [
    "\"\"\"\n",
    "DON'T MODIFY ANYTHING IN THIS CELL\n",
    "\"\"\"\n",
    "save_model_path = './image_classification'\n",
    "\n",
    "print('Training...')\n",
    "with tf.Session() as sess:\n",
    "    # Initializing the variables\n",
    "    sess.run(tf.global_variables_initializer())\n",
    "    \n",
    "    # Training cycle\n",
    "    for epoch in range(epochs):\n",
    "        # Loop over all batches\n",
    "        n_batches = 5\n",
    "        for batch_i in range(1, n_batches + 1):\n",
    "            for batch_features, batch_labels in helper.load_preprocess_training_batch(batch_i, batch_size):\n",
    "                train_neural_network(sess, optimizer, keep_probability, batch_features, batch_labels)\n",
    "            print('Epoch {:>2}, CIFAR-10 Batch {}:  '.format(epoch + 1, batch_i), end='')\n",
    "            print_stats(sess, batch_features, batch_labels, cost, accuracy)\n",
    "            \n",
    "    # Save Model\n",
    "    saver = tf.train.Saver()\n",
    "    save_path = saver.save(sess, save_model_path)"
   ]
  },
  {
   "cell_type": "markdown",
   "metadata": {
    "deletable": true,
    "editable": true
   },
   "source": [
    "# Checkpoint\n",
    "The model has been saved to disk.\n",
    "## Test Model\n",
    "Test your model against the test dataset.  This will be your final accuracy. You should have an accuracy greater than 50%. If you don't, keep tweaking the model architecture and parameters."
   ]
  },
  {
   "cell_type": "code",
   "execution_count": 41,
   "metadata": {
    "collapsed": false,
    "deletable": true,
    "editable": true
   },
   "outputs": [
    {
     "name": "stdout",
     "output_type": "stream",
     "text": [
      "Testing Accuracy: 0.5345444023609162\n",
      "\n"
     ]
    },
    {
     "data": {
      "image/png": "[encoded data removed]",
      "text/plain": [
       "<matplotlib.figure.Figure at 0x7f99e857cef0>"
      ]
     },
     "metadata": {
      "image/png": {
       "height": 319,
       "width": 355
      }
     },
     "output_type": "display_data"
    }
   ],
   "source": [
    "\"\"\"\n",
    "DON'T MODIFY ANYTHING IN THIS CELL\n",
    "\"\"\"\n",
    "%matplotlib inline\n",
    "%config InlineBackend.figure_format = 'retina'\n",
    "\n",
    "import tensorflow as tf\n",
    "import pickle\n",
    "import helper\n",
    "import random\n",
    "\n",
    "# Set batch size if not already set\n",
    "try:\n",
    "    if batch_size:\n",
    "        pass\n",
    "except NameError:\n",
    "    batch_size = 64\n",
    "\n",
    "save_model_path = './image_classification'\n",
    "n_samples = 4\n",
    "top_n_predictions = 3\n",
    "\n",
    "def test_model():\n",
    "    \"\"\"\n",
    "    Test the saved model against the test dataset\n",
    "    \"\"\"\n",
    "\n",
    "    test_features, test_labels = pickle.load(open('preprocess_training.p', mode='rb'))\n",
    "    loaded_graph = tf.Graph()\n",
    "\n",
    "    with tf.Session(graph=loaded_graph) as sess:\n",
    "        # Load model\n",
    "        loader = tf.train.import_meta_graph(save_model_path + '.meta')\n",
    "        loader.restore(sess, save_model_path)\n",
    "\n",
    "        # Get Tensors from loaded model\n",
    "        loaded_x = loaded_graph.get_tensor_by_name('x:0')\n",
    "        loaded_y = loaded_graph.get_tensor_by_name('y:0')\n",
    "        loaded_keep_prob = loaded_graph.get_tensor_by_name('keep_prob:0')\n",
    "        loaded_logits = loaded_graph.get_tensor_by_name('logits:0')\n",
    "        loaded_acc = loaded_graph.get_tensor_by_name('accuracy:0')\n",
    "        \n",
    "        # Get accuracy in batches for memory limitations\n",
    "        test_batch_acc_total = 0\n",
    "        test_batch_count = 0\n",
    "        \n",
    "        for train_feature_batch, train_label_batch in helper.batch_features_labels(test_features, test_labels, batch_size):\n",
    "            test_batch_acc_total += sess.run(\n",
    "                loaded_acc,\n",
    "                feed_dict={loaded_x: train_feature_batch, loaded_y: train_label_batch, loaded_keep_prob: 1.0})\n",
    "            test_batch_count += 1\n",
    "\n",
    "        print('Testing Accuracy: {}\\n'.format(test_batch_acc_total/test_batch_count))\n",
    "\n",
    "        # Print Random Samples\n",
    "        random_test_features, random_test_labels = tuple(zip(*random.sample(list(zip(test_features, test_labels)), n_samples)))\n",
    "        random_test_predictions = sess.run(\n",
    "            tf.nn.top_k(tf.nn.softmax(loaded_logits), top_n_predictions),\n",
    "            feed_dict={loaded_x: random_test_features, loaded_y: random_test_labels, loaded_keep_prob: 1.0})\n",
    "        helper.display_image_predictions(random_test_features, random_test_labels, random_test_predictions)\n",
    "\n",
    "\n",
    "test_model()"
   ]
  },
  {
   "cell_type": "markdown",
   "metadata": {
    "deletable": true,
    "editable": true
   },
   "source": [
    "## Why 50-70% Accuracy?\n",
    "You might be wondering why you can't get an accuracy any higher. First things first, 50% isn't bad for a simple CNN.  Pure guessing would get you 10% accuracy. However, you might notice people are getting scores [well above 70%](http://rodrigob.github.io/are_we_there_yet/build/classification_datasets_results.html#43494641522d3130).  That's because we haven't taught you all there is to know about neural networks. We still need to cover a few more techniques.\n",
    "## Submitting This Project\n",
    "When submitting this project, make sure to run all the cells before saving the notebook.  Save the notebook file as \"dlnd_image_classification.ipynb\" and save it as a HTML file under \"File\" -> \"Download as\".  Include the \"helper.py\" and \"problem_unittests.py\" files in your submission."
   ]
  }
 ],
 "metadata": {
  "kernelspec": {
   "display_name": "Python 3",
   "language": "python",
   "name": "python3"
  },
  "language_info": {
   "codemirror_mode": {
    "name": "ipython",
    "version": 3
   },
   "file_extension": ".py",
   "mimetype": "text/x-python",
   "name": "python",
   "nbconvert_exporter": "python",
   "pygments_lexer": "ipython3",
   "version": "3.5.3"
  }
 },
 "nbformat": 4,
 "nbformat_minor": 1
}
